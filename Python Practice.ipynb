{
 "cells": [
  {
   "cell_type": "code",
   "execution_count": 3,
   "metadata": {},
   "outputs": [],
   "source": [
    "def second_largest_element(list1):\n",
    "    for i in range(len(list1)):   # logic to find largest no.\n",
    "        if list1[i] > list1[0]:\n",
    "            list1[0]=list1[i]\n",
    "    print(list1)\n",
    "    for j in range (list1[1],len(list1)):  # same logic to find 2nd largestby finding largest among the remaining elements \n",
    "        if list1[j] > list1[1]:\n",
    "            list1[1]=list1[i]\n",
    "    print(list1)"
   ]
  },
  {
   "cell_type": "code",
   "execution_count": 10,
   "metadata": {},
   "outputs": [],
   "source": [
    "sample_list = [5,6,1,2,3,4]\n"
   ]
  },
  {
   "cell_type": "code",
   "execution_count": 5,
   "metadata": {},
   "outputs": [
    {
     "data": {
      "text/plain": [
       "[6, 6, 1, 2, 3, 4]"
      ]
     },
     "execution_count": 5,
     "metadata": {},
     "output_type": "execute_result"
    }
   ],
   "source": [
    "sample_list"
   ]
  },
  {
   "cell_type": "code",
   "execution_count": 12,
   "metadata": {},
   "outputs": [],
   "source": [
    "sample_list_1 = [0,6,5,2,3,4]"
   ]
  },
  {
   "cell_type": "code",
   "execution_count": null,
   "metadata": {},
   "outputs": [],
   "source": [
    "second_largest_element(sample_list)\n",
    "second_largest_element(sample_list_1)"
   ]
  },
  {
   "cell_type": "code",
   "execution_count": 6,
   "metadata": {},
   "outputs": [
    {
     "name": "stdout",
     "output_type": "stream",
     "text": [
      "[6, 6, 5, 2, 3, 4]\n",
      "[6, 6, 5, 2, 3, 4]\n"
     ]
    }
   ],
   "source": [
    "\n"
   ]
  },
  {
   "cell_type": "code",
   "execution_count": 7,
   "metadata": {},
   "outputs": [
    {
     "data": {
      "text/plain": [
       "[6, 6, 5, 2, 3, 4]"
      ]
     },
     "execution_count": 7,
     "metadata": {},
     "output_type": "execute_result"
    }
   ],
   "source": [
    "sample_list_1"
   ]
  },
  {
   "cell_type": "code",
   "execution_count": 113,
   "metadata": {},
   "outputs": [],
   "source": [
    "# Solution\n",
    "list1 = [1,2,3,4]\n",
    "#  LEGB\n",
    "\n",
    "def largest_element(list_arg):\n",
    "    largest = list1[0]\n",
    "    for i in list_arg:\n",
    "        if i > largest:\n",
    "            largest = i\n",
    "    return largest\n",
    "    \n",
    "def second_largest_element(list_arg):\n",
    "    if not list1 or len(list1) < 2:\n",
    "        return None\n",
    "    largest = list1[0]\n",
    "    second_largest = list1[0] \n",
    "    for i in list1:\n",
    "        if i > largest:\n",
    "            largest = i\n",
    "        if i < largest and i > second_largest:\n",
    "            second_largest = i\n",
    "    return largest, second_largest\n",
    "        \n",
    "        \n",
    "        "
   ]
  },
  {
   "cell_type": "code",
   "execution_count": 114,
   "metadata": {},
   "outputs": [
    {
     "data": {
      "text/plain": [
       "(4, 1)"
      ]
     },
     "execution_count": 114,
     "metadata": {},
     "output_type": "execute_result"
    }
   ],
   "source": [
    "second_largest_element(list_arg=list_value)"
   ]
  },
  {
   "cell_type": "code",
   "execution_count": 11,
   "metadata": {},
   "outputs": [
    {
     "data": {
      "text/plain": [
       "(6, 5)"
      ]
     },
     "execution_count": 11,
     "metadata": {},
     "output_type": "execute_result"
    }
   ],
   "source": [
    "second_largest_element(sample_list)"
   ]
  },
  {
   "cell_type": "code",
   "execution_count": 13,
   "metadata": {},
   "outputs": [
    {
     "data": {
      "text/plain": [
       "(6, 5)"
      ]
     },
     "execution_count": 13,
     "metadata": {},
     "output_type": "execute_result"
    }
   ],
   "source": [
    "second_largest_element(sample_list_1)"
   ]
  },
  {
   "cell_type": "code",
   "execution_count": 14,
   "metadata": {},
   "outputs": [],
   "source": [
    "def largest_element(list1):\n",
    "    for i in range(len(list1)):\n",
    "         if list1[i] > list1[0]:\n",
    "            list1[0]=list1[i]\n",
    "            \n",
    "    print(\"The largest no. is: \", list1[0])"
   ]
  },
  {
   "cell_type": "code",
   "execution_count": 16,
   "metadata": {},
   "outputs": [],
   "source": [
    "sample_list = [0,1,2,3,4,5]"
   ]
  },
  {
   "cell_type": "code",
   "execution_count": 17,
   "metadata": {
    "scrolled": true
   },
   "outputs": [
    {
     "name": "stdout",
     "output_type": "stream",
     "text": [
      "The largest no. is:  5\n"
     ]
    }
   ],
   "source": [
    "largest_element(sample_list)"
   ]
  },
  {
   "cell_type": "code",
   "execution_count": 18,
   "metadata": {},
   "outputs": [],
   "source": [
    "def length_list(list1):\n",
    "    c=1\n",
    "    for i in range(list1[0],list1[-1]):\n",
    "        c=c+1\n",
    "    print(\"the length is: \", c)"
   ]
  },
  {
   "cell_type": "code",
   "execution_count": 19,
   "metadata": {},
   "outputs": [
    {
     "name": "stdout",
     "output_type": "stream",
     "text": [
      "the length is:  1\n"
     ]
    }
   ],
   "source": [
    "length_list([0,0,0,0])"
   ]
  },
  {
   "cell_type": "code",
   "execution_count": 20,
   "metadata": {},
   "outputs": [
    {
     "name": "stdout",
     "output_type": "stream",
     "text": [
      "srbh\n"
     ]
    }
   ],
   "source": [
    "# 10.\treturn the string after removing all vowels from the given string.\n",
    "def remove_vowel(a):\n",
    "    string=\"\"\n",
    "    for i in range(0,len(a)):\n",
    "        if a[i]==\"a\":\n",
    "            continue\n",
    "        elif a[i]==\"e\":\n",
    "            continue\n",
    "        elif a[i]==\"i\":\n",
    "            continue\n",
    "        elif a[i]==\"o\":\n",
    "            continue\n",
    "        elif a[i]==\"u\":\n",
    "            continue\n",
    "        else:\n",
    "            string=string+a[i]\n",
    "    print(string)\n",
    "            \n",
    "remove_vowel(\"surbhi\")"
   ]
  },
  {
   "cell_type": "code",
   "execution_count": 21,
   "metadata": {},
   "outputs": [],
   "source": [
    "def remove_vowel(a):\n",
    "    s = \"\"\n",
    "    vowels = {'a', 'e', 'i', 'o', 'u'}\n",
    "    for i in a:\n",
    "        if i not in vowels:\n",
    "            s = s + i\n",
    "    return s"
   ]
  },
  {
   "cell_type": "code",
   "execution_count": 22,
   "metadata": {},
   "outputs": [
    {
     "data": {
      "text/plain": [
       "'srbh'"
      ]
     },
     "execution_count": 22,
     "metadata": {},
     "output_type": "execute_result"
    }
   ],
   "source": [
    "remove_vowel('surbhi')"
   ]
  },
  {
   "cell_type": "code",
   "execution_count": 32,
   "metadata": {},
   "outputs": [],
   "source": [
    "# Write a function to \n",
    "# add three numbers.\n",
    "def sum_three_numbers(num_1, num_2, num_3):\n",
    "    return num_1 + num_2 + num_3\n",
    "\n",
    "# multiply two numbers.\n",
    "def multiply_two_numbers(num_1, num_2):\n",
    "    return num_1 * num_2\n",
    "\n",
    "# subtract two numbers.\n",
    "def subtract_num_1_from_num_2(num_1, num_2):\n",
    "    return num_1 - num_2\n",
    "\n",
    "# divide first number by second number and return the quotient and remainder separately.\n",
    "def get_quotient_and_remainder(num_1, num_2):\n",
    "    quotient = num_1 // num_2\n",
    "    remainder = num_1 % num_2\n",
    "    return quotient, remainder\n",
    "\n",
    "# find the square of a number.\n",
    "def get_square(num):\n",
    "    return num * num\n",
    "\n",
    "# find the greater of the two numbers given. | max() conditionals and looping\n",
    "def find_greater_of_two_numbers(num_1, num_2):\n",
    "    if num_1 > num_2:\n",
    "        return num_1\n",
    "    return num_2\n",
    "\n",
    "def find_greater_of_two_numbers(num_1, num_2):\n",
    "    return num_1 if num_1 > num_2 else num_2\n",
    "\n",
    "# find the cube of a number.\n",
    "def get_cube(num):\n",
    "    return num * num * num\n",
    "\n",
    "# find the area of a square.\n",
    "def get_area_of_square(side):\n",
    "    return side * side\n",
    "\n",
    "# find the area of a circle.\n",
    "def get_area_of_circle(radius):\n",
    "    return 3.14 * radius * radius\n",
    "\n",
    "# find the simple interest given principal, interest rate and time period.\n",
    "def get_simple_interest(principal, rate, time):\n",
    "    return (principal * rate * time) / 100\n",
    "\n",
    "# find the compound interest given principal, interest rate and time period.\n",
    "def get_compound_interest(principal, rate, time):\n",
    "    return principal * ((1 +  rate/100) ** time)\n",
    "\n",
    "\n",
    "# print a random integer between two given integers. | random - figure out which function of random module\n",
    "import random\n",
    "def print_random_integer_between_two_integers(int_1, int_2):\n",
    "    print(random.randint(int_1, int_2))\n",
    "    return\n",
    "\n",
    "# print 5 random integers between two given integers.\n",
    "def print_5_random_integers_between_two_integers(int_1, int_2):\n",
    "    for i in range(5):\n",
    "        print(random.randint(int_1, int_2))\n",
    "    return\n",
    "\n",
    "for i in range(5):\n",
    "    print_random_integer_between_two_integers(int_1, int_2)\n",
    "    \n",
    "i = 1\n",
    "while i < 6:\n",
    "    print_random_integer_between_two_integers(int_1, int_2)\n",
    "    i += 1\n",
    "    \n",
    "\n",
    "# check if a number is prime or not. | loop + conditionals + modulus operator\n",
    "def check_if_number_is_prime(num):\n",
    "    if num < 2:\n",
    "        return False\n",
    "    for i in range(2, num // 2 + 1):\n",
    "        if num % i == 0:\n",
    "            return False\n",
    "    return True\n",
    "# compute 5/0 and use try/except to catch the exceptions. Also, print the exception.\n",
    "\n",
    "try:\n",
    "    5 / 0\n",
    "except ZeroDivisionError as e:\n",
    "    print(e)\n",
    "    \n",
    "\n"
   ]
  },
  {
   "cell_type": "code",
   "execution_count": 115,
   "metadata": {},
   "outputs": [
    {
     "ename": "ZeroDivisionError",
     "evalue": "division by zero",
     "output_type": "error",
     "traceback": [
      "\u001b[0;31m---------------------------------------------------------------------------\u001b[0m",
      "\u001b[0;31mZeroDivisionError\u001b[0m                         Traceback (most recent call last)",
      "\u001b[0;32m<ipython-input-115-0106664d39e8>\u001b[0m in \u001b[0;36m<module>\u001b[0;34m\u001b[0m\n\u001b[0;32m----> 1\u001b[0;31m \u001b[0;36m5\u001b[0m\u001b[0;34m/\u001b[0m\u001b[0;36m0\u001b[0m\u001b[0;34m\u001b[0m\u001b[0m\n\u001b[0m",
      "\u001b[0;31mZeroDivisionError\u001b[0m: division by zero"
     ]
    }
   ],
   "source": [
    "5/0"
   ]
  },
  {
   "cell_type": "code",
   "execution_count": null,
   "metadata": {},
   "outputs": [],
   "source": [
    "\n",
    "try:\n",
    "    5 / 0\n",
    "except ZeroDivisionError as e:\n",
    "    print(e)\n",
    "    return \"ZeroDivisionError\""
   ]
  },
  {
   "cell_type": "code",
   "execution_count": 128,
   "metadata": {},
   "outputs": [],
   "source": [
    "# def divide_2_nums(a,b):\n",
    "#     return a/b\n",
    "def divide_2_nums(a,b):\n",
    "    try:\n",
    "        result = a/b\n",
    "    except Exception as e:\n",
    "#         return -1\n",
    "        return f\"Invalid Input in divide_2_nums: {e}\"\n",
    "    return result\n",
    "\n",
    "def divide_and_print_hi(x,y):\n",
    "    result = divide_2_nums(a=x, b=y)\n",
    "    if result == \"Invalid Input\":\n",
    "        print(\"Do not print\")\n",
    "    else:\n",
    "        print(result)\n",
    "    return result"
   ]
  },
  {
   "cell_type": "code",
   "execution_count": 129,
   "metadata": {},
   "outputs": [
    {
     "name": "stdout",
     "output_type": "stream",
     "text": [
      "Invalid Input in divide_2_nums: unsupported operand type(s) for /: 'int' and 'str'\n"
     ]
    },
    {
     "data": {
      "text/plain": [
       "\"Invalid Input in divide_2_nums: unsupported operand type(s) for /: 'int' and 'str'\""
      ]
     },
     "execution_count": 129,
     "metadata": {},
     "output_type": "execute_result"
    }
   ],
   "source": [
    "divide_and_print_hi(x=2,y='a')"
   ]
  },
  {
   "cell_type": "code",
   "execution_count": 111,
   "metadata": {},
   "outputs": [],
   "source": [
    "# Write a function to\n",
    "# return 3rd letter of the given string or None if the given string is less than 3 characters. | Index\n",
    "def get_third_letter_or_none(str_1):\n",
    "    if len(str_1) < 3:\n",
    "        return None\n",
    "    return str_1[2]\n",
    "\n",
    "# return odd indexed characters from a given string or None if the string is empty. | Index with Integer operations | for + integer\n",
    "def get_odd_indexed_characters_or_none(str_1):\n",
    "    if not str_1:\n",
    "        return None\n",
    "    result = \"\"\n",
    "    for idx in range(len(str_1)):\n",
    "        if idx % 2 == 1:\n",
    "            result += str_1[idx]\n",
    "    return result\n",
    "\n",
    "# return the 3rd to 5th character of the given string or None if the string is less than five characters. | Slicing with length and conditionals\n",
    "def get_third_to_fifth_characters_or_none(str_1):\n",
    "    if len(str_1) < 5:\n",
    "        return None\n",
    "    return str_1[2:5]\n",
    "\n",
    "# return the joined string given two input strings. | Concatenate\n",
    "def join_two_strings(str_1, str_2):\n",
    "    return str_1 + str_2\n",
    "\n",
    "\n",
    "# return all the words of a given string split on space (“ “) without using the inbuilt method of .split(). | Loop and conditionals\n",
    "def get_words_split_on_space(str_1):\n",
    "    result = []\n",
    "    current_word = \"\"\n",
    "    \n",
    "    for char in str_1:\n",
    "        if char == ' ':\n",
    "            result.append(current_word)\n",
    "            current_word = ''\n",
    "        else:\n",
    "            current_word += char\n",
    "    if current_word:\n",
    "        result.append(current_word)\n",
    "    return result\n",
    "            \n",
    "        \n",
    "# return the number of times “a” appears in the given string.\n",
    "def count_a(str_1):\n",
    "    count = 0\n",
    "    for i in str_1:\n",
    "        if i == 'a':\n",
    "            count += 1\n",
    "    return count\n",
    "\n",
    "# return the number of times vowels appear in the given string. | list\n",
    "def count_vowels(str_1):\n",
    "    count = 0\n",
    "    vowels = {'a', 'e', 'i', 'o', 'u'}\n",
    "    for i in str_1:\n",
    "        if i in vowels:\n",
    "            count += 1\n",
    "    return count\n",
    "\n",
    "# return the character which appears the most number of times in the given string.\n",
    "def count_most_occurring_characters(str_1):\n",
    "    character_count = dict()\n",
    "    for i in str_1:\n",
    "        if i not in character_count:\n",
    "            character_count[i] = 1\n",
    "        else:\n",
    "            character_count[i] += 1\n",
    "    print(\"Character Count:\", character_count)\n",
    "    most_occurring_characters = []\n",
    "    \n",
    "    # find maximum frequency\n",
    "    maximum_frequency = -1\n",
    "    for value in character_count.values():\n",
    "        if maximum_frequency < value:\n",
    "            maximum_frequency = value     \n",
    "    print(\"Maximum Frequency:\", maximum_frequency)\n",
    "    for key, value in character_count.items():\n",
    "        if value == maximum_frequency:\n",
    "            most_occurring_characters.append(key)\n",
    "    return most_occurring_characters\n",
    "\n",
    "# return the number of times each character appears in the string.\n",
    "def get_character_frequency(str_1):\n",
    "    character_frequency = dict()\n",
    "    for i in str_1:\n",
    "        if i not in character_frequency:\n",
    "            character_frequency[i] = 1\n",
    "        else:\n",
    "            character_frequency[i] += 1\n",
    "    return character_frequency\n",
    "\n",
    "# return the string after removing the character “i” from the given string.\n",
    "def remove_i_from_string(str_1):\n",
    "    result = \"\"\n",
    "    for char in str_1:\n",
    "        if char != 'i':\n",
    "            result += char\n",
    "    return result\n",
    "            \n",
    "# return the string after removing all vowels from the given string.\n",
    "def remove_i_from_string(str_1):\n",
    "    result = \"\"\n",
    "    vowels = {'a', 'e', 'i', 'o', 'u'}\n",
    "    for char in str_1:\n",
    "        if char not in vowels:\n",
    "            result += char\n",
    "    return result\n",
    "\n",
    "# return the string converted to title case, lowercase and uppercase.\n",
    "def change_case(str_1):\n",
    "    return str_1.upper(), str_1.title(), str_1.lower()\n",
    "\n",
    "# check if a string is palindrome or not. | interview question - advanced\n",
    "def check_if_palindrome(str_1):\n",
    "    return True if str_1 == str_1[::-1] else False\n",
    "\n",
    "def check_if_palindrome(str_1):\n",
    "    reversed_string = ''\n",
    "    for i in range(len(str_1) - 1, -1, -1):\n",
    "        reversed_string += str_1[i]\n",
    "    return True if str_1 == reversed_string else False\n",
    "\n",
    "# print the company name of a given email address where the email addresses \n",
    "# are in the \"username@companyname.com\" format and are composed of only alphabets.\n",
    "def get_company_name_from_email(email):\n",
    "    result = ''\n",
    "    for i in email:\n",
    "        if i != \"@\":\n",
    "            result += i\n",
    "            continue\n",
    "        return result\n",
    "\n",
    "# convert snake case to pascal case. | cache_prep_interview_preparation to CachePrepInterviewPreparation\n",
    "\n",
    "def change_case(str):\n",
    "    res = [str[0].lower()]\n",
    "    for c in str[1:]:\n",
    "        if c in ('ABCDEFGHIJKLMNOPQRSTUVWXYZ'):\n",
    "            res.append('_')\n",
    "            res.append(c.lower())\n",
    "        else:\n",
    "            res.append(c)\n",
    "    return ''.join(res)"
   ]
  },
  {
   "cell_type": "code",
   "execution_count": 133,
   "metadata": {},
   "outputs": [],
   "source": [
    "def count_most_occurring_characters(str_1):\n",
    "    character_count = dict()\n",
    "    for i in str_1:\n",
    "        if i not in character_count:\n",
    "            character_count[i] = 1\n",
    "        else:\n",
    "            character_count[i] += 1\n",
    "    print(\"Character Count:\", character_count)\n",
    "    most_occurring_characters = []\n",
    "    \n",
    "    # find maximum frequency\n",
    "    maximum_frequency = -1\n",
    "    for value in character_count.values():\n",
    "        if maximum_frequency < value:\n",
    "            maximum_frequency = value     \n",
    "    print(\"Maximum Frequency:\", maximum_frequency)\n",
    "    for key, value in character_count.items():\n",
    "        print(key, \"::\", value)\n",
    "        if value == maximum_frequency:\n",
    "            most_occurring_characters.append(key)\n",
    "    return most_occurring_characters\n"
   ]
  },
  {
   "cell_type": "code",
   "execution_count": 135,
   "metadata": {},
   "outputs": [
    {
     "name": "stdout",
     "output_type": "stream",
     "text": [
      "Character Count: {'a': 2, 'b': 2, 'c': 3, 'd': 3, 'e': 3}\n",
      "Maximum Frequency: 3\n",
      "a :: 2\n",
      "b :: 2\n",
      "c :: 3\n",
      "d :: 3\n",
      "e :: 3\n"
     ]
    },
    {
     "data": {
      "text/plain": [
       "['c', 'd', 'e']"
      ]
     },
     "execution_count": 135,
     "metadata": {},
     "output_type": "execute_result"
    }
   ],
   "source": [
    "count_most_occurring_characters('aabbcccdddeee')"
   ]
  },
  {
   "cell_type": "markdown",
   "metadata": {},
   "source": [
    "## Doubts"
   ]
  },
  {
   "cell_type": "code",
   "execution_count": 88,
   "metadata": {},
   "outputs": [],
   "source": [
    "# Leetcode: 1108: Given a valid (IPv4) IP address, return a defanged version of that IP address. A defanged IP address replaces every period \".\" with \"[.]\".\n",
    "# Example 1:\n",
    "# Input: address = \"1.1.1.1\"\n",
    "# Output: \"1[.]1[.]1[.]1\"\n",
    "#                How to solve this without .replace().\n",
    "\n",
    "\n",
    "def defang_ip(ip):\n",
    "    result = ''\n",
    "    for i in ip:\n",
    "        if i == '.':\n",
    "            result = result + '[.]'  \n",
    "        else:\n",
    "            result += i\n",
    "    return result"
   ]
  },
  {
   "cell_type": "code",
   "execution_count": null,
   "metadata": {},
   "outputs": [],
   "source": [
    "for idx in range(len(ip)):\n",
    "    ip[idx] = \"a\"\n",
    "    "
   ]
  },
  {
   "cell_type": "code",
   "execution_count": 89,
   "metadata": {},
   "outputs": [
    {
     "data": {
      "text/plain": [
       "'1[.]1[.]1[.]1'"
      ]
     },
     "execution_count": 89,
     "metadata": {},
     "output_type": "execute_result"
    }
   ],
   "source": [
    "defang_ip('1.1.1.1')"
   ]
  },
  {
   "cell_type": "code",
   "execution_count": null,
   "metadata": {},
   "outputs": [],
   "source": [
    "# Write a function to remove all non-alphabetic and non-numeric characters from the given  string.\n",
    "def remove_non_alphabetic_non_numeric_characters(str_1):\n",
    "    alphabets = 'abcdefghijklmnopqrstuvwxyz'\n",
    "    numbers = '0123456789'\n",
    "    \n",
    "    result = ''\n",
    "    for i in str_1:\n",
    "        if i in alphabets or i in numbers:\n",
    "            result += i\n",
    "    return result\n",
    "\n",
    "# Given a list of strings, create all possible anagrams and store them \n",
    "# as a dictionary where key is the string and value is the list of anagrams.\n",
    "\n",
    "# given_list = [“abc”, “efg”]\n",
    "# result = { “abc”: [“abc”, “acb”, “bac”, “bca”, “cab”, “cba”], “efg”: [...]}\n",
    "# def create_anagrams(str_list):\n",
    "#     result = dict()\n",
    "    \n",
    "    \n",
    "\n",
    "\n",
    "# return the character which appears the most number of times in the given string\n",
    "# return the number of times each character appears in the string.\n"
   ]
  },
  {
   "cell_type": "code",
   "execution_count": 130,
   "metadata": {},
   "outputs": [
    {
     "data": {
      "text/plain": [
       "True"
      ]
     },
     "execution_count": 130,
     "metadata": {},
     "output_type": "execute_result"
    }
   ],
   "source": [
    "'a'.isalpha()"
   ]
  },
  {
   "cell_type": "code",
   "execution_count": 90,
   "metadata": {},
   "outputs": [],
   "source": [
    "# To check if an element exists in the given list. \n",
    "\n",
    "def check_if_exists(sample_list, target):\n",
    "    if target in sample_list:\n",
    "        return True\n",
    "    return False\n",
    "\n"
   ]
  },
  {
   "cell_type": "code",
   "execution_count": null,
   "metadata": {},
   "outputs": [],
   "source": [
    "# to find which elements present in the first list are not present in the second list\n",
    "\n",
    "def get_list_difference(list_1, list_2):\n",
    "    result = []\n",
    "    \n",
    "    for i in list_1:\n",
    "        if i not in list_2:\n",
    "            result.append(i)\n",
    "    return result"
   ]
  },
  {
   "cell_type": "code",
   "execution_count": null,
   "metadata": {},
   "outputs": [],
   "source": [
    "# for i in range(some_int_value)"
   ]
  },
  {
   "cell_type": "code",
   "execution_count": 138,
   "metadata": {},
   "outputs": [],
   "source": [
    "# pop vs remove\n",
    "\n",
    "a = [1,2,3,4,5,5,6]"
   ]
  },
  {
   "cell_type": "code",
   "execution_count": 139,
   "metadata": {},
   "outputs": [],
   "source": [
    "b = a.pop(2)\n",
    "# removes and returns value using index"
   ]
  },
  {
   "cell_type": "code",
   "execution_count": 140,
   "metadata": {},
   "outputs": [
    {
     "data": {
      "text/plain": [
       "3"
      ]
     },
     "execution_count": 140,
     "metadata": {},
     "output_type": "execute_result"
    }
   ],
   "source": [
    "b"
   ]
  },
  {
   "cell_type": "code",
   "execution_count": 141,
   "metadata": {},
   "outputs": [],
   "source": [
    "c = a.remove(1)\n",
    "# removes value, does not return it and removes by value"
   ]
  },
  {
   "cell_type": "code",
   "execution_count": 142,
   "metadata": {},
   "outputs": [
    {
     "name": "stdout",
     "output_type": "stream",
     "text": [
      "None\n"
     ]
    }
   ],
   "source": [
    "print(c)"
   ]
  },
  {
   "cell_type": "code",
   "execution_count": 136,
   "metadata": {},
   "outputs": [],
   "source": [
    "class ABC:\n",
    "    pass"
   ]
  },
  {
   "cell_type": "code",
   "execution_count": 137,
   "metadata": {},
   "outputs": [],
   "source": [
    "def check_element(list1, element):\n",
    "   for i in range(len(list1)):\n",
    "       if (list1[i]==element):\n",
    "           print(\"element found at\", i,\"th position\")\n",
    "          \n",
    "       else:\n",
    "           print(\"not found\")\n"
   ]
  },
  {
   "cell_type": "code",
   "execution_count": null,
   "metadata": {},
   "outputs": [],
   "source": [
    "def check_element(list1, target):\n",
    "    for i in range(len(list1)):\n",
    "        if (list1[i]==element):\n",
    "            print(\"Value found\")\n",
    "            break\n",
    "    return None\n",
    "        \n"
   ]
  },
  {
   "cell_type": "code",
   "execution_count": null,
   "metadata": {},
   "outputs": [],
   "source": []
  }
 ],
 "metadata": {
  "kernelspec": {
   "display_name": "Python 3",
   "language": "python",
   "name": "python3"
  },
  "language_info": {
   "codemirror_mode": {
    "name": "ipython",
    "version": 3
   },
   "file_extension": ".py",
   "mimetype": "text/x-python",
   "name": "python",
   "nbconvert_exporter": "python",
   "pygments_lexer": "ipython3",
   "version": "3.9.1"
  }
 },
 "nbformat": 4,
 "nbformat_minor": 4
}
