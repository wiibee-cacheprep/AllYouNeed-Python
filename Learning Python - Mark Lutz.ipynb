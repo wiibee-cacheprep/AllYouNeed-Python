{
 "cells": [
  {
   "cell_type": "markdown",
   "id": "powered-passing",
   "metadata": {},
   "source": [
    "# Chapter 1: A Python Q & A Session\n",
    "1. Why Python?\n",
    "    - Software quality: Python code is designed to be readable, and hence reusable and maintainable.\n",
    "    - Developer productivity: Less to type, less to debug, and less to maintain\n",
    "    - Program portability: Most Python programs run unchanged on all major computer platforms\n",
    "    - Support libraries: large collection of prebuilt and portable functionality + third-party library ecosystem\n",
    "    - Component integration: Python scripts can easily communicate with other parts of an application - C | C++ | Java\n",
    "    - Enjoyment: Python programming is more pleasure than chore\n",
    "2. Why not Python?\n",
    "    - Execution speed may not always be as fast as that of fully compiled and lower-level languages such as C and C++\n",
    "    - However, Python code runs fast enough by itself in most application domains\n",
    "3. How does Python work? Does it compile?\n",
    "    - standard implementations of Python today compile (i.e., translate) source code state- ments to an intermediate format known as byte code and then interpret the byte code. Byte code provides portability, as it is a platform-independent format.\n",
    "    - Python is not normally compiled all the way down to binary machine code (e.g., instructions for an Intel chip), some programs will run more slowly in Python than in a fully compiled language like C.\n",
    "4. Products using Python\n",
    "    - Google, Youtube, Dropbox, Netflix\n",
    "5. Reference:\n",
    "    - https://www.python.org/about/success/\n",
    "    \n",
    "6. Usage of Python\n",
    "    - Systems Programming\n",
    "    - GUIs\n",
    "    - Internet Scripting\n",
    "    - Component Integration\n",
    "    - Database Programming\n",
    "    - Rapid Prototyping\n",
    "    - Numeric and Scientific Programming - Our use case\n",
    "    "
   ]
  },
  {
   "cell_type": "markdown",
   "id": "horizontal-radical",
   "metadata": {},
   "source": [
    "# Chapter 2: How Python Runs Programs\n",
    "1. Interpreter: An interpreter is a kind of program that executes other programs. When you write a Python program, the Python interpreter reads your program and carries out the instructions it contains. In effect, the interpreter is a layer of software logic between your code and the computer hardware on your machine\n",
    "2. Byte Code and Virtual Machine - not required for our purposes\n"
   ]
  },
  {
   "cell_type": "markdown",
   "id": "adequate-personal",
   "metadata": {},
   "source": [
    "# Detour I: Python Installation + Virtual Environment\n",
    "1. Before moving forward, make sure you have Python 3.7 or higher version installed.\n",
    "    - Python installation is not covered here. There are a lot of good tutorials on YouTube.\n",
    "2. Create a virtual environment by name of data_science.\n",
    "3. Install jupyter."
   ]
  },
  {
   "cell_type": "markdown",
   "id": "logical-march",
   "metadata": {},
   "source": [
    "# Chapter 3: How You Run Programs\n",
    "1. The Interactive Prompt: \n",
    "    - Start the python shell by typing python in command line.\n",
    "    - Start coding.\n",
    "2. However, we will do it slightly differently.\n",
    "    - Activate the virtual environment by name of data_science\n",
    "    - Start jupyter notebook\n",
    "    - Create a new jupyter notebook\n",
    "    - Code into it.\n",
    "3. Running Files with Command Lines\n",
    "    - python <name_of_file.py>"
   ]
  },
  {
   "attachments": {},
   "cell_type": "markdown",
   "id": "resident-banks",
   "metadata": {},
   "source": [
    "# Chapter 4: Introducing Python Object Types\n",
    "1. “Do Things with Stuff”\n",
    "2. “Things” take the form of operations like addition and concatenation.\n",
    "3. “Stuff” refers to the objects on which we perform those operations."
   ]
  },
  {
   "cell_type": "markdown",
   "id": "olympic-idaho",
   "metadata": {},
   "source": [
    "4. Python Core Data Types - A Preview\n",
    "<img src='./img/4.1-Built-In-Objects-Preview.png'>"
   ]
  },
  {
   "cell_type": "markdown",
   "id": "massive-criterion",
   "metadata": {},
   "source": [
    "5. Objects are essentially just pieces of memory, with values and sets of associated operations\n",
    "<img src='./img/4.0-Memory-Operations.png'>"
   ]
  },
  {
   "cell_type": "markdown",
   "id": "empty-terry",
   "metadata": {},
   "source": [
    "### Python Conceptual Hierarchy\n",
    "Python programs can be decomposed into modules, statements, expressions, and objects."
   ]
  },
  {
   "cell_type": "markdown",
   "id": "humanitarian-counter",
   "metadata": {},
   "source": [
    "1. Expressions create and process objects. It may be considered to be the smallest unit in python that evaluates to a value."
   ]
  },
  {
   "cell_type": "code",
   "execution_count": 1,
   "id": "lasting-confirmation",
   "metadata": {},
   "outputs": [
    {
     "data": {
      "text/plain": [
       "5"
      ]
     },
     "execution_count": 1,
     "metadata": {},
     "output_type": "execute_result"
    }
   ],
   "source": [
    "2 + 3"
   ]
  },
  {
   "cell_type": "markdown",
   "id": "liable-fourth",
   "metadata": {},
   "source": [
    "2. Statements contain expressions. Statements, in effect, do something and achieve some result."
   ]
  },
  {
   "cell_type": "code",
   "execution_count": 4,
   "id": "outer-interface",
   "metadata": {},
   "outputs": [
    {
     "name": "stdout",
     "output_type": "stream",
     "text": [
      "5\n"
     ]
    }
   ],
   "source": [
    "# The following code has 3 statements.\n",
    "x = 2    # This statements initiailises a variable x and assigns it the integer value of 2.\n",
    "y = 3    # This statements initiailises a variable y and assigns it the integer value of 3.\n",
    "\n",
    "# This statement initializes the variable z and assigns it the value 5 after evaluating the expression x + y\n",
    "z = x + y  \n",
    "print(z)"
   ]
  },
  {
   "cell_type": "markdown",
   "id": "opposed-cherry",
   "metadata": {},
   "source": [
    "3. Modules contain statements. Multiple cells of code like above come together to form a module.\n",
    "4. Programs are composed of modules. Multiple modules come together to form a program. eg. Netflix"
   ]
  },
  {
   "cell_type": "markdown",
   "id": "driving-whale",
   "metadata": {},
   "source": [
    "### Python Core Data Types:\n",
    "1. There is specific expression syntax for generating most of them. \n",
    "2. They are effectively built into the Python language.\n",
    "3. Characters surrounded by quotes generates and returns a new string object."
   ]
  },
  {
   "cell_type": "code",
   "execution_count": 5,
   "id": "included-performance",
   "metadata": {},
   "outputs": [
    {
     "data": {
      "text/plain": [
       "'spam'"
      ]
     },
     "execution_count": 5,
     "metadata": {},
     "output_type": "execute_result"
    }
   ],
   "source": [
    "'spam'"
   ]
  },
  {
   "cell_type": "markdown",
   "id": "sunset-classic",
   "metadata": {},
   "source": [
    "4. An expression wrapped in square brackets makes a list. []"
   ]
  },
  {
   "cell_type": "code",
   "execution_count": 6,
   "id": "private-today",
   "metadata": {},
   "outputs": [
    {
     "data": {
      "text/plain": [
       "[1, 2, 3, 4, 5]"
      ]
     },
     "execution_count": 6,
     "metadata": {},
     "output_type": "execute_result"
    }
   ],
   "source": [
    "[1, 2, 3, 4, 5]"
   ]
  },
  {
   "cell_type": "markdown",
   "id": "elder-dominant",
   "metadata": {},
   "source": [
    "5. An expression wrapped in curly brackets makes a dictionary. {}"
   ]
  },
  {
   "cell_type": "code",
   "execution_count": 7,
   "id": "controversial-intention",
   "metadata": {},
   "outputs": [
    {
     "data": {
      "text/plain": [
       "{'x': 1, 'y': 2}"
      ]
     },
     "execution_count": 7,
     "metadata": {},
     "output_type": "execute_result"
    }
   ],
   "source": [
    "{'x': 1, 'y': 2}"
   ]
  },
  {
   "cell_type": "markdown",
   "id": "still-bridges",
   "metadata": {},
   "source": [
    "6. Python is <b> dynamically typed </b>. There are no type declarations in Python, the syntax of the expressions you run determines the types of objects you create and use. It keeps track of types for you automatically instead of requiring declaration code.\n",
    "7. Python is <b> strongly typed </b>. Once you create an object, you bind its operation set for all time i.e. you can perform only string operations on a string and list operations on a list. It is a constraint that means you can perform on an object only operations that are valid for its type.\n"
   ]
  },
  {
   "cell_type": "code",
   "execution_count": null,
   "id": "english-million",
   "metadata": {},
   "outputs": [],
   "source": []
  },
  {
   "cell_type": "code",
   "execution_count": null,
   "id": "technological-waters",
   "metadata": {},
   "outputs": [],
   "source": []
  },
  {
   "cell_type": "code",
   "execution_count": null,
   "id": "smooth-tampa",
   "metadata": {},
   "outputs": [],
   "source": []
  },
  {
   "cell_type": "code",
   "execution_count": null,
   "id": "damaged-charge",
   "metadata": {},
   "outputs": [],
   "source": []
  },
  {
   "cell_type": "code",
   "execution_count": null,
   "id": "nonprofit-coupon",
   "metadata": {},
   "outputs": [],
   "source": [
    "aa"
   ]
  }
 ],
 "metadata": {
  "kernelspec": {
   "display_name": "Python 3",
   "language": "python",
   "name": "python3"
  },
  "language_info": {
   "codemirror_mode": {
    "name": "ipython",
    "version": 3
   },
   "file_extension": ".py",
   "mimetype": "text/x-python",
   "name": "python",
   "nbconvert_exporter": "python",
   "pygments_lexer": "ipython3",
   "version": "3.9.1"
  }
 },
 "nbformat": 4,
 "nbformat_minor": 5
}
