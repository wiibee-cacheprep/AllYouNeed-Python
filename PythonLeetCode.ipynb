{
 "cells": [
  {
   "cell_type": "markdown",
   "id": "through-attitude",
   "metadata": {},
   "source": [
    "### Reference:\n",
    "https://leetcode.com/discuss/career/448285/List-of-questions-sorted-by-common-patterns\n",
    "1. 2 Heaps\n",
    "2. Arrays\n",
    "3. Backtracking\n",
    "4. Dynamic Programming\n",
    "5. Fast & Slow pointers\n",
    "6. Graph Traversal\n",
    "7. In-place traversal of LL\n",
    "8. K-way merge\n",
    "9. Merge Intervals\n",
    "10. Modified Binary Search\n",
    "11. Sliding window\n",
    "12. Top K elements\n",
    "13. Topological Sorting\n",
    "14. Tree BFS\n",
    "15. Tree DFS\n",
    "16. Two Pointers"
   ]
  },
  {
   "cell_type": "markdown",
   "id": "accessible-command",
   "metadata": {},
   "source": [
    "# Arrays: With Two Pointers"
   ]
  },
  {
   "cell_type": "markdown",
   "id": "prepared-marking",
   "metadata": {},
   "source": [
    "### Key to understanding two pointers\n",
    "1. Labelling them properly - e.g. left, light vs low, high vs slow, fast\n",
    "2. Deciding how to nest them in loops\n",
    "3. Deciding if the aray needs to be sorted - sorted array works well with left, right pointers (2 Sum, 3 Sum, 4 Sum)\n",
    "4. Using one pointer to scan the array and based on some condition updating the position of the other pointer (Removing Duplicates from sorted array)\n",
    "5. Initialisation of pointer from -1 or 0 depending on requirement"
   ]
  },
  {
   "cell_type": "markdown",
   "id": "beginning-paris",
   "metadata": {},
   "source": [
    "### Q 11. Container With Most Water\n",
    "1. Medium\n",
    "2. Description\n",
    "    1. You are given an integer array height of length n. There are n vertical lines drawn such that the two endpoints of the ith line are (i, 0) and (i, height[i]). Find two lines that together with the x-axis form a container, such that the container contains the most water.\n",
    "    2. Return the maximum amount of water a container can store. Notice that you may not slant the container.\n",
    "3. Input: height = [1,8,6,2,5,4,8,3,7] | Output: 49 | Explanation: The above vertical lines are represented by array [1,8,6,2,5,4,8,3,7]. In this case, the max area of water (blue section) the container can contain is 49."
   ]
  },
  {
   "cell_type": "code",
   "execution_count": 2,
   "id": "tracked-sheriff",
   "metadata": {},
   "outputs": [],
   "source": [
    "from typing import List, Dict, Tuple"
   ]
  },
  {
   "cell_type": "code",
   "execution_count": 7,
   "id": "driven-retrieval",
   "metadata": {},
   "outputs": [],
   "source": [
    "height = [1,8,6,2,5,4,8,3,7]"
   ]
  },
  {
   "cell_type": "code",
   "execution_count": 9,
   "id": "mighty-adaptation",
   "metadata": {},
   "outputs": [],
   "source": [
    "# Q 11. Container With Most Water\n",
    "# Solution 1: Brute Force - Time Limit Exceeded\n",
    "class Solution:\n",
    "    def maxArea(self, height: List[int]) -> int:\n",
    "        max_area = float(\"-Inf\")\n",
    "        for i in range(len(height)):\n",
    "            for j in range(i, len(height)):\n",
    "                current_area = min(height[i], height[j]) * (j - i)\n",
    "                if current_area > max_area:\n",
    "                    max_area = current_area \n",
    "        return max_area\n",
    "            \n",
    "        "
   ]
  },
  {
   "cell_type": "code",
   "execution_count": 11,
   "id": "second-fleece",
   "metadata": {},
   "outputs": [],
   "source": [
    "test_maxArea = Solution()\n",
    "assert test_maxArea.maxArea(height) == 49, \"Incorrect result\""
   ]
  },
  {
   "cell_type": "code",
   "execution_count": 12,
   "id": "numerous-latex",
   "metadata": {},
   "outputs": [],
   "source": [
    "# Q 11. Container With Most Water\n",
    "# Solution 2: 2-Pointer Approach\n",
    "class Solution:\n",
    "    def maxArea(self, height: List[int]) -> int:\n",
    "        max_area = float(\"-Inf\")\n",
    "        left = 0\n",
    "        right = len(height) - 1\n",
    "        while left < right:\n",
    "            current_area = min(height[left], height[right]) * (right - left)\n",
    "            if current_area > max_area:\n",
    "                max_area = current_area\n",
    "            if height[left] < height[right]:\n",
    "                left += 1\n",
    "            else:\n",
    "                right -= 1\n",
    "        return max_area"
   ]
  },
  {
   "cell_type": "code",
   "execution_count": 13,
   "id": "million-forge",
   "metadata": {},
   "outputs": [],
   "source": [
    "test_maxArea = Solution()\n",
    "assert test_maxArea.maxArea(height) == 49, \"Incorrect result\""
   ]
  },
  {
   "cell_type": "markdown",
   "id": "varying-mexican",
   "metadata": {},
   "source": [
    "## Q 15. 3Sum\n",
    "Medium\n",
    "1. Given an integer array nums, return all the triplets [nums[i], nums[j], nums[k]] such that i != j, i != k, and j != k, and nums[i] + nums[j] + nums[k] == 0.\n",
    "2. Notice that the solution set must not contain duplicate triplets.\n",
    "\n",
    "Example 1:\n",
    "Input: nums = [-1,0,1,2,-1,-4]\n",
    "Output: [[-1,-1,2],[-1,0,1]]"
   ]
  },
  {
   "cell_type": "code",
   "execution_count": 45,
   "id": "efficient-spyware",
   "metadata": {},
   "outputs": [],
   "source": [
    "# Solution: Two Pointers after sorting\n",
    "# O(n**2)\n",
    "class Solution:\n",
    "    def threeSum(self, nums: List[int]) -> List[List[int]]:\n",
    "        nums.sort()\n",
    "        result = []\n",
    "        for pivot in range(len(nums)):\n",
    "            if nums[pivot] > 0:\n",
    "                break\n",
    "            if pivot == 0 or nums[pivot-1] != nums[pivot]:\n",
    "                left = pivot + 1\n",
    "                right = len(nums) - 1\n",
    "                while left < right:\n",
    "                    current_sum = nums[pivot] + nums[left] + nums[right]\n",
    "                    if current_sum < 0:\n",
    "                        left += 1\n",
    "                    elif current_sum > 0:\n",
    "                        right -= 1\n",
    "                    else:\n",
    "                        result.append([nums[pivot], nums[left], nums[right]])\n",
    "                        left += 1\n",
    "                        right -= 1\n",
    "                        while left < right and nums[left - 1] == nums[left]:\n",
    "                            left += 1\n",
    "        return result"
   ]
  },
  {
   "cell_type": "code",
   "execution_count": 48,
   "id": "innocent-steel",
   "metadata": {},
   "outputs": [],
   "source": [
    "test_threeSum = Solution()\n",
    "assert test_threeSum.threeSum([-1,0,1,2,-1,-4]) == [[-1,-1,2],[-1,0,1]]"
   ]
  },
  {
   "cell_type": "code",
   "execution_count": 47,
   "id": "hairy-license",
   "metadata": {},
   "outputs": [
    {
     "data": {
      "text/plain": [
       "[[-1, -1, 2], [-1, 0, 1]]"
      ]
     },
     "execution_count": 47,
     "metadata": {},
     "output_type": "execute_result"
    }
   ],
   "source": [
    "test_threeSum.threeSum([-1,0,1,2,-1,-4])"
   ]
  },
  {
   "cell_type": "markdown",
   "id": "increased-america",
   "metadata": {},
   "source": [
    "### 16. 3Sum Closest\n",
    "Medium\n",
    "Given an integer array nums of length n and an integer target, find three integers in nums such that the sum is closest to target.\n",
    "Return the sum of the three integers.\n",
    "You may assume that each input would have exactly one solution.\n",
    "\n",
    "Example 1:\n",
    "\n",
    "Input: nums = [-1,2,1,-4], target = 1\n",
    "Output: 2\n",
    "Explanation: The sum that is closest to the target is 2. (-1 + 2 + 1 = 2)."
   ]
  },
  {
   "cell_type": "code",
   "execution_count": 55,
   "id": "material-watts",
   "metadata": {},
   "outputs": [],
   "source": [
    "# Two Pointer - Brute Force"
   ]
  },
  {
   "cell_type": "code",
   "execution_count": 53,
   "id": "dependent-highway",
   "metadata": {},
   "outputs": [],
   "source": [
    "# Two Pointer with Sorting \n",
    "class Solution:\n",
    "    def threeSumClosest(self, nums: List[int], target: int) -> int:\n",
    "        nums.sort()\n",
    "        minimum_difference = float('inf')\n",
    "        for pivot in range(len(nums)):\n",
    "            left = pivot + 1\n",
    "            right = len(nums) - 1\n",
    "            while left < right:\n",
    "                current_sum = nums[pivot] + nums[left] + nums[right]\n",
    "                current_difference = abs(target - current_sum) \n",
    "                if current_difference < abs(minimum_difference):\n",
    "                    minimum_difference = target - current_sum\n",
    "                if current_sum < target:\n",
    "                    left += 1\n",
    "                else:\n",
    "                    right -= 1\n",
    "            if minimum_difference == 0:\n",
    "                break\n",
    "        return target - minimum_difference\n",
    "                "
   ]
  },
  {
   "cell_type": "code",
   "execution_count": 54,
   "id": "hired-distinction",
   "metadata": {},
   "outputs": [
    {
     "data": {
      "text/plain": [
       "1"
      ]
     },
     "execution_count": 54,
     "metadata": {},
     "output_type": "execute_result"
    }
   ],
   "source": [
    "test_threeSumClosest = Solution()\n",
    "test_threeSumClosest.threeSumClosest([-1,2,1,-4], 1)"
   ]
  },
  {
   "cell_type": "markdown",
   "id": "continued-bailey",
   "metadata": {},
   "source": [
    "## 18. 4Sum\n",
    "Medium\n",
    "\n",
    "1. Given an array nums of n integers, return an array of all the unique quadruplets [nums[a], nums[b], nums[c], nums[d]] such that:\n",
    "    - 0 <= a, b, c, d < n\n",
    "    - a, b, c, and d are distinct.\n",
    "    - nums[a] + nums[b] + nums[c] + nums[d] == target\n",
    "2. You may return the answer in any order.\n",
    "\n",
    "Example 1:\n",
    "\n",
    "Input: nums = [1,0,-1,0,-2,2], target = 0\n",
    "Output: [[-2,-1,1,2],[-2,0,0,2],[-1,0,0,1]]"
   ]
  },
  {
   "cell_type": "code",
   "execution_count": null,
   "id": "pretty-equality",
   "metadata": {},
   "outputs": [],
   "source": [
    "class Solution:\n",
    "    def threeSumClosest(self, nums: List[int], target: int) -> int:\n",
    "        nums.sort()\n",
    "        minimum_difference = float('inf')\n",
    "        for pivot_1 in range(len(nums)):\n",
    "            for pivot_2 in range(pivot_1, len(nums)):\n",
    "                left = pivot_2 + 1\n",
    "                right = len(nums) - 1\n",
    "                while left < right:\n",
    "                    current_sum = nums[pivot_2] + nums[pivot_2] + nums[pivot_2]\n",
    "                    if current_sum == nums[pivot_1]\n",
    "#                     current_difference = abs(target - current_sum) \n",
    "                    if current_difference < abs(minimum_difference):\n",
    "                        minimum_difference = target - current_sum\n",
    "                    if current_sum < target:\n",
    "                        left += 1\n",
    "                    else:\n",
    "                        right -= 1\n",
    "                if minimum_difference == 0:\n",
    "                    break\n",
    "        return target - minimum_difference\n",
    "                "
   ]
  },
  {
   "cell_type": "markdown",
   "id": "sonic-throw",
   "metadata": {},
   "source": [
    "## 26. Remove Duplicates from Sorted Array\n",
    "Easy\n",
    "\n",
    "Given an integer array nums sorted in non-decreasing order, remove the duplicates in-place such that each unique element appears only once. The relative order of the elements should be kept the same.\n",
    "\n",
    "Since it is impossible to change the length of the array in some languages, you must instead have the result be placed in the first part of the array nums. More formally, if there are k elements after removing the duplicates, then the first k elements of nums should hold the final result. It does not matter what you leave beyond the first k elements.\n",
    "\n",
    "Return k after placing the final result in the first k slots of nums.\n",
    "\n",
    "Do not allocate extra space for another array. You must do this by modifying the input array in-place with O(1) extra memory."
   ]
  },
  {
   "cell_type": "code",
   "execution_count": 37,
   "id": "short-registration",
   "metadata": {},
   "outputs": [],
   "source": [
    "# sample = [0,0,0,1,2,3,3,4,4,4,5]\n",
    "\n",
    "class Solution:\n",
    "    def removeDuplicates(self, nums: List[int]) -> int:\n",
    "        last_updated_idx = 0\n",
    "        \n",
    "        for idx in range(1, len(nums)):\n",
    "#             print(f'1. Nums::Last Updated Idx::Idx::{nums}::{last_updated_idx}::{idx}')\n",
    "            if nums[last_updated_idx] != nums[idx]:\n",
    "                last_updated_idx += 1\n",
    "                nums[last_updated_idx] = nums[idx]\n",
    "#                 print(f'2. Nums::Last Updated Idx::Idx::{nums}::{last_updated_idx}::{idx}')\n",
    "        \n",
    "        return last_updated_idx + 1"
   ]
  },
  {
   "cell_type": "code",
   "execution_count": 38,
   "id": "piano-contest",
   "metadata": {},
   "outputs": [],
   "source": [
    "test_removeDuplicates = Solution()"
   ]
  },
  {
   "cell_type": "code",
   "execution_count": 40,
   "id": "dimensional-establishment",
   "metadata": {},
   "outputs": [],
   "source": [
    "assert test_removeDuplicates.removeDuplicates([0,0,1,1,1,2,2,3,3,4]) == 5"
   ]
  },
  {
   "cell_type": "markdown",
   "id": "published-accordance",
   "metadata": {},
   "source": [
    "## 27. Remove Element\n",
    "Easy\n",
    "\n",
    "Given an integer array nums and an integer val, remove all occurrences of val in nums in-place. The relative order of the elements may be changed.\n",
    "\n",
    "Since it is impossible to change the length of the array in some languages, you must instead have the result be placed in the first part of the array nums. More formally, if there are k elements after removing the duplicates, then the first k elements of nums should hold the final result. It does not matter what you leave beyond the first k elements.\n",
    "\n",
    "Return k after placing the final result in the first k slots of nums.\n",
    "\n",
    "Do not allocate extra space for another array. You must do this by modifying the input array in-place with O(1) extra memory.\n",
    "\n",
    "Example 1:\n",
    "\n",
    "Input: nums = [3,2,2,3], val = 3\n",
    "Output: 2, nums = [2,2,_,_]\n",
    "Explanation: Your function should return k = 2, with the first two elements of nums being 2.\n",
    "It does not matter what you leave beyond the returned k (hence they are underscores).\n"
   ]
  },
  {
   "cell_type": "code",
   "execution_count": 41,
   "id": "wrong-berlin",
   "metadata": {},
   "outputs": [],
   "source": [
    "class Solution:\n",
    "    def removeElement(self, nums: List[int], val: int) -> int:\n",
    "        last_val_found = -1\n",
    "        for i in range(len(nums)):\n",
    "            # print(nums[i], nums)\n",
    "            if nums[i] != val:\n",
    "                last_val_found += 1\n",
    "                nums[last_val_found] = nums[i]\n",
    "                \n",
    "        return last_val_found + 1"
   ]
  },
  {
   "cell_type": "markdown",
   "id": "passive-barrel",
   "metadata": {},
   "source": [
    "## 35. Search Insert Position - Basic Binary Search\n",
    "Easy\n",
    "\n",
    "Given a sorted array of distinct integers and a target value, return the index if the target is found. If not, return the index where it would be if it were inserted in order.\n",
    "\n",
    "You must write an algorithm with O(log n) runtime complexity.  => **Binary Search**\n",
    "\n",
    "Example 1:\n",
    "\n",
    "Input: nums = [1,3,5,6], target = 5\n",
    "Output: 2"
   ]
  },
  {
   "cell_type": "code",
   "execution_count": 42,
   "id": "simple-hampton",
   "metadata": {},
   "outputs": [],
   "source": [
    "class Solution:\n",
    "    def searchInsert(self, nums: List[int], target: int) -> int:\n",
    "        left = 0\n",
    "        right = len(nums)\n",
    "        while left < right:\n",
    "            \n",
    "            mid = left + (right - left) // 2\n",
    "            if nums[mid] == target:\n",
    "                return mid\n",
    "            elif nums[mid] < target:\n",
    "                left = mid + 1\n",
    "            else:\n",
    "                right = mid\n",
    "        return left\n",
    "        "
   ]
  },
  {
   "cell_type": "code",
   "execution_count": 44,
   "id": "parental-uncle",
   "metadata": {},
   "outputs": [],
   "source": [
    "test_searchInsert = Solution()\n",
    "assert test_searchInsert.searchInsert([1,3,5,6], 2) == 1"
   ]
  },
  {
   "cell_type": "markdown",
   "id": "billion-hungarian",
   "metadata": {},
   "source": [
    "## 53. Maximum Subarray - Important: Dynamic Programming\n",
    "Easy\n",
    "\n",
    "Given an integer array nums, find the contiguous subarray (containing at least one number) which has the largest sum and return its sum.\n",
    "\n",
    "A subarray is a contiguous part of an array.\n",
    "\n",
    "Example 1:\n",
    "\n",
    "Input: nums = [-2,1,-3,4,-1,2,1,-5,4]\n",
    "Output: 6\n",
    "Explanation: [4,-1,2,1] has the largest sum = 6."
   ]
  },
  {
   "cell_type": "code",
   "execution_count": 46,
   "id": "interracial-activity",
   "metadata": {},
   "outputs": [],
   "source": [
    "class Solution:\n",
    "    def maxSubArray(self, nums: List[int]) -> int:\n",
    "        maximum_so_far = nums[0]\n",
    "        current_maximum = nums[0]\n",
    "        \n",
    "        for idx in range(len(nums)):\n",
    "            current_maximum = max(nums[i], current_maximum + nums[i])\n",
    "            maximum_so_far = max(current_maximum, maximum_so_far)\n",
    "            \n",
    "        return maximum_so_far"
   ]
  },
  {
   "cell_type": "markdown",
   "id": "wooden-tuesday",
   "metadata": {},
   "source": [
    "## 66. Plus One\n",
    "Easy\n",
    "\n",
    "You are given a large integer represented as an integer array digits, where each digits[i] is the ith digit of the integer. The digits are ordered from most significant to least significant in left-to-right order. The large integer does not contain any leading 0's.\n",
    "\n",
    "Increment the large integer by one and return the resulting array of digits.\n",
    "\n",
    "Example 1:\n",
    "\n",
    "Input: digits = [1,2,3]\n",
    "Output: [1,2,4]\n",
    "Explanation: The array represents the integer 123.\n",
    "Incrementing by one gives 123 + 1 = 124.\n",
    "Thus, the result should be [1,2,4]."
   ]
  },
  {
   "cell_type": "markdown",
   "id": "studied-fisher",
   "metadata": {},
   "source": [
    "### Solution using 2 pointer:\n",
    "1. i maintains loop\n",
    "2. idx maintains the position in the digits array"
   ]
  },
  {
   "cell_type": "code",
   "execution_count": 58,
   "id": "fossil-steel",
   "metadata": {},
   "outputs": [],
   "source": [
    "class Solution:\n",
    "    def plusOne(self, digits: List[int]) -> List[int]:\n",
    "        n = len(digits)\n",
    "        \n",
    "        for idx in range(n-1, -1, -1):   # Helps navigate digits in inverse direction\n",
    "            if digits[idx] == 9:\n",
    "                digits[idx] == 0\n",
    "            else:\n",
    "                digits[idx] += 1\n",
    "                return digits\n",
    "        return [1] + digits    # If loop completes, it means all digits are 9. Add 1 in front\n",
    "        "
   ]
  },
  {
   "cell_type": "markdown",
   "id": "weighted-helicopter",
   "metadata": {},
   "source": [
    "## 88. Merge Sorted Array: Three Pointer - one for each array\n",
    "**Interview Tip: Whenever you're trying to solve an array problem in-place, always consider the possibility of iterating backwards instead of forwards through the array. It can completely change the problem, and make it a lot easier.**\n",
    "\n",
    "Easy\n",
    "\n",
    "You are given two integer arrays nums1 and nums2, sorted in non-decreasing order, and two integers m and n, representing the number of elements in nums1 and nums2 respectively.\n",
    "\n",
    "Merge nums1 and nums2 into a single array sorted in non-decreasing order.\n",
    "\n",
    "The final sorted array should not be returned by the function, but instead be stored inside the array nums1. To accommodate this, nums1 has a length of m + n, where the first m elements denote the elements that should be merged, and the last n elements are set to 0 and should be ignored. nums2 has a length of n.\n",
    "\n",
    " \n",
    "\n",
    "Example 1:\n",
    "\n",
    "Input: nums1 = [1,2,3,0,0,0], m = 3, nums2 = [2,5,6], n = 3\n",
    "Output: [1,2,2,3,5,6]\n",
    "Explanation: The arrays we are merging are [1,2,3] and [2,5,6].\n",
    "The result of the merge is [1,2,2,3,5,6] with the underlined elements coming from nums1."
   ]
  },
  {
   "cell_type": "code",
   "execution_count": 98,
   "id": "extensive-neighborhood",
   "metadata": {},
   "outputs": [],
   "source": [
    "class Solution:\n",
    "    def merge(self, nums1: List[int], m: int, nums2: List[int], n: int) -> None:\n",
    "        \"\"\"\n",
    "        Do not return anything, modify nums1 in-place instead.\n",
    "        \"\"\"\n",
    "        idx_1 = m-1\n",
    "        idx_2 = n-1\n",
    "        \n",
    "        for idx_3 in range(m + n -1, -1, -1):\n",
    "#             print(nums1, nums2)\n",
    "            if nums1[idx_1] <= nums2[idx_2]:\n",
    "                nums1[idx_3] = nums2[idx_2]\n",
    "                idx_2 -= 1    \n",
    "                print(1, idx_3, nums1[idx_1], nums2[idx_2], nums1[idx_3], nums1)\n",
    "            else:\n",
    "                nums1[idx_3] = nums1[idx_1]\n",
    "                print(2, idx_3, nums1[idx_1], nums2[idx_2], nums1[idx_3], nums1)\n",
    "                idx_1 -= 1\n",
    "        return nums1\n",
    "                "
   ]
  },
  {
   "cell_type": "code",
   "execution_count": 116,
   "id": "anticipated-recipient",
   "metadata": {},
   "outputs": [],
   "source": [
    "class Solution:\n",
    "    def merge(self, nums1: List[int], m: int, nums2: List[int], n: int) -> None:\n",
    "        \"\"\"\n",
    "        Do not return anything, modify nums1 in-place instead.\n",
    "        \"\"\"\n",
    "        if m == 0:\n",
    "            return nums2\n",
    "        if n == 0:\n",
    "            print(\"no\")\n",
    "            return nums1\n",
    "        idx_1 = m-1\n",
    "        idx_2 = n-1\n",
    "        \n",
    "        for idx_3 in range(m + n - 1, -1, -1):\n",
    "            if idx_1 < 0 or idx_2 < 0:\n",
    "                return nums1\n",
    "            if nums1[idx_1] <= nums2[idx_2]:\n",
    "                nums1[idx_3] = nums2[idx_2]\n",
    "                idx_2 -= 1    \n",
    "            else:\n",
    "                nums1[idx_3] = nums1[idx_1]\n",
    "                idx_1 -= 1\n",
    "        return nums1\n",
    "                "
   ]
  },
  {
   "cell_type": "code",
   "execution_count": null,
   "id": "palestinian-europe",
   "metadata": {},
   "outputs": [],
   "source": []
  }
 ],
 "metadata": {
  "kernelspec": {
   "display_name": "Python 3",
   "language": "python",
   "name": "python3"
  },
  "language_info": {
   "codemirror_mode": {
    "name": "ipython",
    "version": 3
   },
   "file_extension": ".py",
   "mimetype": "text/x-python",
   "name": "python",
   "nbconvert_exporter": "python",
   "pygments_lexer": "ipython3",
   "version": "3.9.1"
  }
 },
 "nbformat": 4,
 "nbformat_minor": 5
}
