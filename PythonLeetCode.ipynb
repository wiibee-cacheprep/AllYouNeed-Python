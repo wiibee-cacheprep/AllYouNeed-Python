{
 "cells": [
  {
   "cell_type": "markdown",
   "id": "through-attitude",
   "metadata": {},
   "source": [
    "### Reference:\n",
    "https://leetcode.com/discuss/career/448285/List-of-questions-sorted-by-common-patterns\n",
    "1. 2 Heaps\n",
    "2. Arrays\n",
    "3. Backtracking\n",
    "4. Dynamic Programming\n",
    "5. Fast & Slow pointers\n",
    "6. Graph Traversal\n",
    "7. In-place traversal of LL\n",
    "8. K-way merge\n",
    "9. Merge Intervals\n",
    "10. Modified Binary Search\n",
    "11. Sliding window\n",
    "12. Top K elements\n",
    "13. Topological Sorting\n",
    "14. Tree BFS\n",
    "15. Tree DFS\n",
    "16. Two Pointers"
   ]
  },
  {
   "cell_type": "markdown",
   "id": "8bb57e87",
   "metadata": {},
   "source": [
    "## Key to DSA - 07/05/22\n",
    "\n",
    "Starting out in Data Structures and Algorithms can be daunting. Keep in mind these basics and you will very quickly develop a knack for identifying problems and approaches to solving them.\n",
    "\n",
    "DSA Pattern I: Arrays with Pointers tracking position\n",
    "Arrays with one or more pointers tracking your position on the array is always a good place to start. Keep in mind these basics and you will very quickly develop a knack for identifying problems and approaches to solving them.\n",
    "\n",
    "1. Identify what values you need to track.\n",
    "2. Use descriptive names for the variables holding these values. e.g. instead of p, m, val - use price, minimum_value etc. It will really make your life easy when you read your code the next time. Develop this habit.\n",
    "3. Identify how the values are related to each other. e.g. inner loop counter starts from the next element with respect to the outer loop.\n",
    "4. Identify the conditions under which the variables are updated. e.g. Increment the left pointer by 1 if the value at the left pointer is lesser than the right pointer.\n",
    "5. Use print statements everywhere and see how values are getting updated. It is a good way to identify edge cases.\n",
    "6. Use peculiar inputs and see how code behaves. e.g. empty list, all values being negative, all values being the same, all values as 0, values in increasing and decreasing order, values outside the allowed values and so on.\n",
    "\n",
    "The following three questions are a good way to implement and visualise these steps.\n",
    "Q 11. Container With Most Water\n",
    "https://leetcode.com/problems/container-with-most-water/\n",
    "\n",
    "Hint: Values to track: overall_maximum_area, current_area, left_index, right_index, updation of left_index or right_index based on which has smaller value i.e. height[left_index] vs height[right_index]\n",
    "\n",
    "Q 121. Best Time to Buy and Sell Stock\n",
    "https://leetcode.com/problems/best-time-to-buy-and-sell-stock/\n",
    "Hint: Values to track minimum_price and maximum_profit, updation when you find a lower price or a higher profit\n",
    "\n",
    "Q 35. Search Insert Position - Basic Binary Search\n",
    "Hint: Values to track left_index, right_index, mid_point. This question serves as a good introduction into Binary Search.\n",
    "https://leetcode.com/problems/search-insert-position/\n",
    "\n",
    "\n",
    "Happy Learning!"
   ]
  },
  {
   "cell_type": "markdown",
   "id": "accessible-command",
   "metadata": {},
   "source": [
    "# Arrays: With Two Pointers"
   ]
  },
  {
   "cell_type": "markdown",
   "id": "prepared-marking",
   "metadata": {},
   "source": [
    "### Key to understanding two pointers\n",
    "1. Labelling them properly - e.g. left, light vs low, high vs slow, fast\n",
    "2. Deciding how to nest them in loops\n",
    "3. Deciding if the aray needs to be sorted - sorted array works well with left, right pointers (2 Sum, 3 Sum, 4 Sum)\n",
    "4. Using one pointer to scan the array and based on some condition updating the position of the other pointer (Removing Duplicates from sorted array)\n",
    "5. Initialisation of pointer from -1 or 0 depending on requirement"
   ]
  },
  {
   "cell_type": "markdown",
   "id": "9e0049fa",
   "metadata": {},
   "source": [
    "### Checklist to solve DSA porblem:\n",
    "1. List down possible variables you will need to solve the problem.\n",
    "2. Use appropriate and descriptive names. Clear variable names will really make your task easier in visualising the flow of program and how and when a variable is updated.\n",
    "3. Visualise your loops - start, end and break conditions."
   ]
  },
  {
   "cell_type": "markdown",
   "id": "beginning-paris",
   "metadata": {},
   "source": [
    "### Q 11. Container With Most Water\n",
    "1. Medium\n",
    "2. Description\n",
    "    1. You are given an integer array height of length n. There are n vertical lines drawn such that the two endpoints of the ith line are (i, 0) and (i, height[i]). Find two lines that together with the x-axis form a container, such that the container contains the most water.\n",
    "    2. Return the maximum amount of water a container can store. Notice that you may not slant the container.\n",
    "3. Input: height = [1,8,6,2,5,4,8,3,7] | Output: 49 | Explanation: The above vertical lines are represented by array [1,8,6,2,5,4,8,3,7]. In this case, the max area of water (blue section) the container can contain is 49."
   ]
  },
  {
   "cell_type": "code",
   "execution_count": 2,
   "id": "tracked-sheriff",
   "metadata": {},
   "outputs": [],
   "source": [
    "from typing import List, Dict, Tuple"
   ]
  },
  {
   "cell_type": "code",
   "execution_count": 7,
   "id": "driven-retrieval",
   "metadata": {},
   "outputs": [],
   "source": [
    "height = [1,8,6,2,5,4,8,3,7]"
   ]
  },
  {
   "cell_type": "markdown",
   "id": "7da70bb5",
   "metadata": {},
   "source": [
    "#### Solution 1: Brute Force - Time Limit Exceeded\n",
    "1. This uses two pointers as two loop counters.\n",
    "2. It creates all combinations of values and calculates their areas.\n",
    "3. Time Complexity - O(n_square)\n",
    "4. The variable max_area is initialised as -infinity and updated depending on whether the area found in the current iteration is larger than it or not."
   ]
  },
  {
   "cell_type": "markdown",
   "id": "bb9c1c08",
   "metadata": {},
   "source": [
    "### Checklist:\n",
    "1. Variables needed - \n",
    "    1.maximum_area formed by combining index and their value as a rectangle\n",
    "    2. Pointers to track x-axis of the rectangle\n",
    "    3. If x-axis which is list index is tracked, y-axis of rectangle is automatically tracked as the value on the given index in the list\n",
    "    4. Tracking minimum value present between both index as the minimum value is the key constraint in maximising the area\n",
    "2. Brute force solution:\n",
    "    1. Take two pointers.\n",
    "    2. Create all possible combinations of 2 values and their indices.\n",
    "    3. Find the maximum area.\n",
    "    4. Exceeds time limit.\n",
    "    5. O(n_square)\n",
    "3. Two pointer approach - given below"
   ]
  },
  {
   "cell_type": "code",
   "execution_count": 9,
   "id": "mighty-adaptation",
   "metadata": {},
   "outputs": [],
   "source": [
    "# Q 11. Container With Most Water\n",
    "# Solution 1: Brute Force - Time Limit Exceeded\n",
    "class Solution:\n",
    "    def maxArea(self, height: List[int]) -> int:\n",
    "        max_area = float(\"-Inf\")\n",
    "        for i in range(len(height)):\n",
    "            for j in range(i, len(height)):\n",
    "                current_area = min(height[i], height[j]) * (j - i)\n",
    "                if current_area > max_area:\n",
    "                    max_area = current_area \n",
    "        return max_area\n",
    "            \n",
    "        "
   ]
  },
  {
   "cell_type": "code",
   "execution_count": 11,
   "id": "second-fleece",
   "metadata": {},
   "outputs": [],
   "source": [
    "test_maxArea = Solution()\n",
    "assert test_maxArea.maxArea(height) == 49, \"Incorrect result\""
   ]
  },
  {
   "cell_type": "markdown",
   "id": "38332671",
   "metadata": {},
   "source": [
    "#### Solution 2: 2-Pointer Approach\n",
    "1. This uses two pointers from opposite ends of the list.\n",
    "2. It uses the fact that as the two pointers move towards each other from opposite ends of the list, the x-axis of the rectangle reduces which is the index of the height list. However, the y-axis of rectangle, which is the value at the given index of height list (height[left] and height[right]) may increase due to us finding a greater value. This increased value along y-axis, if we happen to find it, may offset the reduction in x-axis due to pointers coming closer.\n",
    "3. The maximum_area variable keeps a track of the maximum_area found so far.\n",
    "4 The current_area tracks the area calculated for every iteration of the loop and updates the maximum_area accordingly.\n",
    "5. If height[left] < height[right], left pointer is increased by 1 as the smaller of the two heights is the constraint. By increasing left, we may find a greater value on the next index."
   ]
  },
  {
   "cell_type": "code",
   "execution_count": 12,
   "id": "numerous-latex",
   "metadata": {},
   "outputs": [],
   "source": [
    "# Q 11. Container With Most Water\n",
    "# Solution 2: 2-Pointer Approach\n",
    "class Solution:\n",
    "    def maxArea(self, height: List[int]) -> int:\n",
    "        max_area = float(\"-Inf\")\n",
    "        left = 0\n",
    "        right = len(height) - 1\n",
    "        while left < right:\n",
    "            current_area = min(height[left], height[right]) * (right - left)\n",
    "            if current_area > max_area:\n",
    "                max_area = current_area\n",
    "            if height[left] < height[right]:\n",
    "                left += 1\n",
    "            else:\n",
    "                right -= 1\n",
    "        return max_area"
   ]
  },
  {
   "cell_type": "code",
   "execution_count": 13,
   "id": "million-forge",
   "metadata": {},
   "outputs": [],
   "source": [
    "test_maxArea = Solution()\n",
    "assert test_maxArea.maxArea(height) == 49, \"Incorrect result\""
   ]
  },
  {
   "cell_type": "markdown",
   "id": "varying-mexican",
   "metadata": {},
   "source": [
    "## Q 15. 3Sum\n",
    "Medium\n",
    "1. Given an integer array nums, return all the triplets [nums[i], nums[j], nums[k]] such that i != j, i != k, and j != k, and nums[i] + nums[j] + nums[k] == 0.\n",
    "2. Notice that the solution set must not contain duplicate triplets.\n",
    "\n",
    "Example 1:\n",
    "Input: nums = [-1,0,1,2,-1,-4]\n",
    "Output: [[-1,-1,2],[-1,0,1]]"
   ]
  },
  {
   "cell_type": "markdown",
   "id": "880878ff",
   "metadata": {},
   "source": [
    "### Checklist:\n",
    "1. Array to keep track of the triplets that sum to zero\n",
    "2. 3 pointers to track the triplets\n",
    "3. Brute Force:\n",
    "    1. Sum every combination by using 3 nested loops\n",
    "    2. O(n_cube)\n",
    "4. Two Pointer with Sorting\n",
    "    1. Sorting - nlogn which is better than O(n_square)\n",
    "    2. Time complexity - O(n_square)"
   ]
  },
  {
   "cell_type": "code",
   "execution_count": 45,
   "id": "efficient-spyware",
   "metadata": {},
   "outputs": [],
   "source": [
    "# Solution: Two Pointers after sorting\n",
    "# O(n**2)\n",
    "class Solution:\n",
    "    def threeSum(self, nums: List[int]) -> List[List[int]]:\n",
    "        nums.sort()\n",
    "        result = []\n",
    "        for pivot in range(len(nums)):\n",
    "            if nums[pivot] > 0:\n",
    "                break\n",
    "            if pivot == 0 or nums[pivot-1] != nums[pivot]:\n",
    "                left = pivot + 1\n",
    "                right = len(nums) - 1\n",
    "                while left < right:\n",
    "                    current_sum = nums[pivot] + nums[left] + nums[right]\n",
    "                    if current_sum < 0:\n",
    "                        left += 1\n",
    "                    elif current_sum > 0:\n",
    "                        right -= 1\n",
    "                    else:\n",
    "                        result.append([nums[pivot], nums[left], nums[right]])\n",
    "                        left += 1\n",
    "                        right -= 1\n",
    "                        while left < right and nums[left - 1] == nums[left]:\n",
    "                            left += 1\n",
    "        return result"
   ]
  },
  {
   "cell_type": "code",
   "execution_count": 48,
   "id": "innocent-steel",
   "metadata": {},
   "outputs": [],
   "source": [
    "test_threeSum = Solution()\n",
    "assert test_threeSum.threeSum([-1,0,1,2,-1,-4]) == [[-1,-1,2],[-1,0,1]]"
   ]
  },
  {
   "cell_type": "code",
   "execution_count": 47,
   "id": "hairy-license",
   "metadata": {},
   "outputs": [
    {
     "data": {
      "text/plain": [
       "[[-1, -1, 2], [-1, 0, 1]]"
      ]
     },
     "execution_count": 47,
     "metadata": {},
     "output_type": "execute_result"
    }
   ],
   "source": [
    "test_threeSum.threeSum([-1,0,1,2,-1,-4])"
   ]
  },
  {
   "cell_type": "markdown",
   "id": "increased-america",
   "metadata": {},
   "source": [
    "### 16. 3Sum Closest\n",
    "Medium\n",
    "Given an integer array nums of length n and an integer target, find three integers in nums such that the sum is closest to target.\n",
    "Return the sum of the three integers.\n",
    "You may assume that each input would have exactly one solution.\n",
    "\n",
    "Example 1:\n",
    "\n",
    "Input: nums = [-1,2,1,-4], target = 1\n",
    "Output: 2\n",
    "Explanation: The sum that is closest to the target is 2. (-1 + 2 + 1 = 2)."
   ]
  },
  {
   "cell_type": "code",
   "execution_count": 55,
   "id": "material-watts",
   "metadata": {},
   "outputs": [],
   "source": [
    "# Two Pointer - Brute Force"
   ]
  },
  {
   "cell_type": "code",
   "execution_count": 53,
   "id": "dependent-highway",
   "metadata": {},
   "outputs": [],
   "source": [
    "# Two Pointer with Sorting \n",
    "class Solution:\n",
    "    def threeSumClosest(self, nums: List[int], target: int) -> int:\n",
    "        nums.sort()\n",
    "        minimum_difference = float('inf')\n",
    "        for pivot in range(len(nums)):\n",
    "            left = pivot + 1\n",
    "            right = len(nums) - 1\n",
    "            while left < right:\n",
    "                current_sum = nums[pivot] + nums[left] + nums[right]\n",
    "                current_difference = abs(target - current_sum) \n",
    "                if current_difference < abs(minimum_difference):\n",
    "                    minimum_difference = target - current_sum\n",
    "                if current_sum < target:\n",
    "                    left += 1\n",
    "                else:\n",
    "                    right -= 1\n",
    "            if minimum_difference == 0:\n",
    "                break\n",
    "        return target - minimum_difference\n",
    "                "
   ]
  },
  {
   "cell_type": "code",
   "execution_count": 54,
   "id": "hired-distinction",
   "metadata": {},
   "outputs": [
    {
     "data": {
      "text/plain": [
       "1"
      ]
     },
     "execution_count": 54,
     "metadata": {},
     "output_type": "execute_result"
    }
   ],
   "source": [
    "test_threeSumClosest = Solution()\n",
    "test_threeSumClosest.threeSumClosest([-1,2,1,-4], 1)"
   ]
  },
  {
   "cell_type": "markdown",
   "id": "continued-bailey",
   "metadata": {},
   "source": [
    "## 18. 4Sum\n",
    "Medium\n",
    "\n",
    "1. Given an array nums of n integers, return an array of all the unique quadruplets [nums[a], nums[b], nums[c], nums[d]] such that:\n",
    "    - 0 <= a, b, c, d < n\n",
    "    - a, b, c, and d are distinct.\n",
    "    - nums[a] + nums[b] + nums[c] + nums[d] == target\n",
    "2. You may return the answer in any order.\n",
    "\n",
    "Example 1:\n",
    "\n",
    "Input: nums = [1,0,-1,0,-2,2], target = 0\n",
    "Output: [[-2,-1,1,2],[-2,0,0,2],[-1,0,0,1]]"
   ]
  },
  {
   "cell_type": "code",
   "execution_count": null,
   "id": "pretty-equality",
   "metadata": {},
   "outputs": [],
   "source": [
    "class Solution:\n",
    "    def threeSumClosest(self, nums: List[int], target: int) -> int:\n",
    "        nums.sort()\n",
    "        minimum_difference = float('inf')\n",
    "        for pivot_1 in range(len(nums)):\n",
    "            for pivot_2 in range(pivot_1, len(nums)):\n",
    "                left = pivot_2 + 1\n",
    "                right = len(nums) - 1\n",
    "                while left < right:\n",
    "                    current_sum = nums[pivot_2] + nums[pivot_2] + nums[pivot_2]\n",
    "                    if current_sum == nums[pivot_1]\n",
    "#                     current_difference = abs(target - current_sum) \n",
    "                    if current_difference < abs(minimum_difference):\n",
    "                        minimum_difference = target - current_sum\n",
    "                    if current_sum < target:\n",
    "                        left += 1\n",
    "                    else:\n",
    "                        right -= 1\n",
    "                if minimum_difference == 0:\n",
    "                    break\n",
    "        return target - minimum_difference\n",
    "                "
   ]
  },
  {
   "cell_type": "markdown",
   "id": "sonic-throw",
   "metadata": {},
   "source": [
    "## 26. Remove Duplicates from Sorted Array\n",
    "Easy\n",
    "\n",
    "Given an integer array nums sorted in non-decreasing order, remove the duplicates in-place such that each unique element appears only once. The relative order of the elements should be kept the same.\n",
    "\n",
    "Since it is impossible to change the length of the array in some languages, you must instead have the result be placed in the first part of the array nums. More formally, if there are k elements after removing the duplicates, then the first k elements of nums should hold the final result. It does not matter what you leave beyond the first k elements.\n",
    "\n",
    "Return k after placing the final result in the first k slots of nums.\n",
    "\n",
    "Do not allocate extra space for another array. You must do this by modifying the input array in-place with O(1) extra memory."
   ]
  },
  {
   "cell_type": "code",
   "execution_count": 37,
   "id": "short-registration",
   "metadata": {},
   "outputs": [],
   "source": [
    "# sample = [0,0,0,1,2,3,3,4,4,4,5]\n",
    "\n",
    "class Solution:\n",
    "    def removeDuplicates(self, nums: List[int]) -> int:\n",
    "        last_updated_idx = 0\n",
    "        \n",
    "        for idx in range(1, len(nums)):\n",
    "#             print(f'1. Nums::Last Updated Idx::Idx::{nums}::{last_updated_idx}::{idx}')\n",
    "            if nums[last_updated_idx] != nums[idx]:\n",
    "                last_updated_idx += 1\n",
    "                nums[last_updated_idx] = nums[idx]\n",
    "#                 print(f'2. Nums::Last Updated Idx::Idx::{nums}::{last_updated_idx}::{idx}')\n",
    "        \n",
    "        return last_updated_idx + 1"
   ]
  },
  {
   "cell_type": "code",
   "execution_count": 38,
   "id": "piano-contest",
   "metadata": {},
   "outputs": [],
   "source": [
    "test_removeDuplicates = Solution()"
   ]
  },
  {
   "cell_type": "code",
   "execution_count": 40,
   "id": "dimensional-establishment",
   "metadata": {},
   "outputs": [],
   "source": [
    "assert test_removeDuplicates.removeDuplicates([0,0,1,1,1,2,2,3,3,4]) == 5"
   ]
  },
  {
   "cell_type": "markdown",
   "id": "published-accordance",
   "metadata": {},
   "source": [
    "## 27. Remove Element\n",
    "Easy\n",
    "\n",
    "Given an integer array nums and an integer val, remove all occurrences of val in nums in-place. The relative order of the elements may be changed.\n",
    "\n",
    "Since it is impossible to change the length of the array in some languages, you must instead have the result be placed in the first part of the array nums. More formally, if there are k elements after removing the duplicates, then the first k elements of nums should hold the final result. It does not matter what you leave beyond the first k elements.\n",
    "\n",
    "Return k after placing the final result in the first k slots of nums.\n",
    "\n",
    "Do not allocate extra space for another array. You must do this by modifying the input array in-place with O(1) extra memory.\n",
    "\n",
    "Example 1:\n",
    "\n",
    "Input: nums = [3,2,2,3], val = 3\n",
    "Output: 2, nums = [2,2,_,_]\n",
    "Explanation: Your function should return k = 2, with the first two elements of nums being 2.\n",
    "It does not matter what you leave beyond the returned k (hence they are underscores).\n"
   ]
  },
  {
   "cell_type": "code",
   "execution_count": 41,
   "id": "wrong-berlin",
   "metadata": {},
   "outputs": [],
   "source": [
    "class Solution:\n",
    "    def removeElement(self, nums: List[int], val: int) -> int:\n",
    "        last_val_found = -1\n",
    "        for i in range(len(nums)):\n",
    "            # print(nums[i], nums)\n",
    "            if nums[i] != val:\n",
    "                last_val_found += 1\n",
    "                nums[last_val_found] = nums[i]\n",
    "                \n",
    "        return last_val_found + 1"
   ]
  },
  {
   "cell_type": "markdown",
   "id": "passive-barrel",
   "metadata": {},
   "source": [
    "## 35. Search Insert Position - Basic Binary Search\n",
    "Easy\n",
    "\n",
    "Given a sorted array of distinct integers and a target value, return the index if the target is found. If not, return the index where it would be if it were inserted in order.\n",
    "\n",
    "You must write an algorithm with O(log n) runtime complexity.  => **Binary Search**\n",
    "\n",
    "Example 1:\n",
    "\n",
    "Input: nums = [1,3,5,6], target = 5\n",
    "Output: 2"
   ]
  },
  {
   "cell_type": "code",
   "execution_count": 42,
   "id": "simple-hampton",
   "metadata": {},
   "outputs": [],
   "source": [
    "class Solution:\n",
    "    def searchInsert(self, nums: List[int], target: int) -> int:\n",
    "        left = 0\n",
    "        right = len(nums)\n",
    "        while left < right:\n",
    "            \n",
    "            mid = left + (right - left) // 2\n",
    "            if nums[mid] == target:\n",
    "                return mid\n",
    "            elif nums[mid] < target:\n",
    "                left = mid + 1\n",
    "            else:\n",
    "                right = mid\n",
    "        return left\n",
    "        "
   ]
  },
  {
   "cell_type": "code",
   "execution_count": 44,
   "id": "parental-uncle",
   "metadata": {},
   "outputs": [],
   "source": [
    "test_searchInsert = Solution()\n",
    "assert test_searchInsert.searchInsert([1,3,5,6], 2) == 1"
   ]
  },
  {
   "cell_type": "markdown",
   "id": "billion-hungarian",
   "metadata": {},
   "source": [
    "## 53. Maximum Subarray - Important: Dynamic Programming\n",
    "Easy\n",
    "\n",
    "Given an integer array nums, find the contiguous subarray (containing at least one number) which has the largest sum and return its sum.\n",
    "\n",
    "A subarray is a contiguous part of an array.\n",
    "\n",
    "Example 1:\n",
    "\n",
    "Input: nums = [-2,1,-3,4,-1,2,1,-5,4]\n",
    "Output: 6\n",
    "Explanation: [4,-1,2,1] has the largest sum = 6."
   ]
  },
  {
   "cell_type": "code",
   "execution_count": 46,
   "id": "interracial-activity",
   "metadata": {},
   "outputs": [],
   "source": [
    "class Solution:\n",
    "    def maxSubArray(self, nums: List[int]) -> int:\n",
    "        maximum_so_far = nums[0]\n",
    "        current_maximum = nums[0]\n",
    "        \n",
    "        for idx in range(len(nums)):\n",
    "            current_maximum = max(nums[i], current_maximum + nums[i])\n",
    "            maximum_so_far = max(current_maximum, maximum_so_far)\n",
    "            \n",
    "        return maximum_so_far"
   ]
  },
  {
   "cell_type": "markdown",
   "id": "wooden-tuesday",
   "metadata": {},
   "source": [
    "## 66. Plus One\n",
    "Easy\n",
    "\n",
    "You are given a large integer represented as an integer array digits, where each digits[i] is the ith digit of the integer. The digits are ordered from most significant to least significant in left-to-right order. The large integer does not contain any leading 0's.\n",
    "\n",
    "Increment the large integer by one and return the resulting array of digits.\n",
    "\n",
    "Example 1:\n",
    "\n",
    "Input: digits = [1,2,3]\n",
    "Output: [1,2,4]\n",
    "Explanation: The array represents the integer 123.\n",
    "Incrementing by one gives 123 + 1 = 124.\n",
    "Thus, the result should be [1,2,4]."
   ]
  },
  {
   "cell_type": "markdown",
   "id": "studied-fisher",
   "metadata": {},
   "source": [
    "### Solution using 2 pointer:\n",
    "1. i maintains loop\n",
    "2. idx maintains the position in the digits array"
   ]
  },
  {
   "cell_type": "code",
   "execution_count": 58,
   "id": "fossil-steel",
   "metadata": {},
   "outputs": [],
   "source": [
    "class Solution:\n",
    "    def plusOne(self, digits: List[int]) -> List[int]:\n",
    "        n = len(digits)\n",
    "        \n",
    "        for idx in range(n-1, -1, -1):   # Helps navigate digits in inverse direction\n",
    "            if digits[idx] == 9:\n",
    "                digits[idx] == 0\n",
    "            else:\n",
    "                digits[idx] += 1\n",
    "                return digits\n",
    "        return [1] + digits    # If loop completes, it means all digits are 9. Add 1 in front\n",
    "        "
   ]
  },
  {
   "cell_type": "markdown",
   "id": "weighted-helicopter",
   "metadata": {},
   "source": [
    "## 88. Merge Sorted Array: Three Pointer - one for each array\n",
    "**Interview Tip: Whenever you're trying to solve an array problem in-place, always consider the possibility of iterating backwards instead of forwards through the array. It can completely change the problem, and make it a lot easier.**\n",
    "\n",
    "Easy\n",
    "\n",
    "You are given two integer arrays nums1 and nums2, sorted in non-decreasing order, and two integers m and n, representing the number of elements in nums1 and nums2 respectively.\n",
    "\n",
    "Merge nums1 and nums2 into a single array sorted in non-decreasing order.\n",
    "\n",
    "The final sorted array should not be returned by the function, but instead be stored inside the array nums1. To accommodate this, nums1 has a length of m + n, where the first m elements denote the elements that should be merged, and the last n elements are set to 0 and should be ignored. nums2 has a length of n.\n",
    "\n",
    " \n",
    "\n",
    "Example 1:\n",
    "\n",
    "Input: nums1 = [1,2,3,0,0,0], m = 3, nums2 = [2,5,6], n = 3\n",
    "Output: [1,2,2,3,5,6]\n",
    "Explanation: The arrays we are merging are [1,2,3] and [2,5,6].\n",
    "The result of the merge is [1,2,2,3,5,6] with the underlined elements coming from nums1."
   ]
  },
  {
   "cell_type": "code",
   "execution_count": 98,
   "id": "extensive-neighborhood",
   "metadata": {},
   "outputs": [],
   "source": [
    "class Solution:\n",
    "    def merge(self, nums1: List[int], m: int, nums2: List[int], n: int) -> None:\n",
    "        \"\"\"\n",
    "        Do not return anything, modify nums1 in-place instead.\n",
    "        \"\"\"\n",
    "        idx_1 = m-1\n",
    "        idx_2 = n-1\n",
    "        \n",
    "        for idx_3 in range(m + n -1, -1, -1):\n",
    "#             print(nums1, nums2)\n",
    "            if nums1[idx_1] <= nums2[idx_2]:\n",
    "                nums1[idx_3] = nums2[idx_2]\n",
    "                idx_2 -= 1    \n",
    "                print(1, idx_3, nums1[idx_1], nums2[idx_2], nums1[idx_3], nums1)\n",
    "            else:\n",
    "                nums1[idx_3] = nums1[idx_1]\n",
    "                print(2, idx_3, nums1[idx_1], nums2[idx_2], nums1[idx_3], nums1)\n",
    "                idx_1 -= 1\n",
    "        return nums1\n",
    "                "
   ]
  },
  {
   "cell_type": "code",
   "execution_count": 116,
   "id": "anticipated-recipient",
   "metadata": {},
   "outputs": [],
   "source": [
    "class Solution:\n",
    "    def merge(self, nums1: List[int], m: int, nums2: List[int], n: int) -> None:\n",
    "        \"\"\"\n",
    "        Do not return anything, modify nums1 in-place instead.\n",
    "        \"\"\"\n",
    "        if m == 0:\n",
    "            return nums2\n",
    "        if n == 0:\n",
    "            print(\"no\")\n",
    "            return nums1\n",
    "        idx_1 = m-1\n",
    "        idx_2 = n-1\n",
    "        \n",
    "        for idx_3 in range(m + n - 1, -1, -1):\n",
    "            if idx_1 < 0 or idx_2 < 0:\n",
    "                return nums1\n",
    "            if nums1[idx_1] <= nums2[idx_2]:\n",
    "                nums1[idx_3] = nums2[idx_2]\n",
    "                idx_2 -= 1    \n",
    "            else:\n",
    "                nums1[idx_3] = nums1[idx_1]\n",
    "                idx_1 -= 1\n",
    "        return nums1\n",
    "                "
   ]
  },
  {
   "cell_type": "markdown",
   "id": "excellent-journalist",
   "metadata": {},
   "source": [
    "## 118. Pascal's Triangle\n",
    "Easy\n",
    "\n",
    "Given an integer numRows, return the first numRows of Pascal's triangle.\n",
    "\n",
    "In Pascal's triangle, each number is the sum of the two numbers directly above it as shown:\n",
    "\n",
    "Example 1:\n",
    "\n",
    "Input: numRows = 5\n",
    "Output: [[1],[1,1],[1,2,1],[1,3,3,1],[1,4,6,4,1]]\n",
    "\n",
    "\n",
    "#### Solution 1: Iteration with DP\n",
    "1. Two pointers used\n",
    "2. i to keep track of the current row\n",
    "3. j to keep track of the current element in the current row\n",
    "4. Since jth element of the ith row is a sum of jth and j-1th element of the i-1th row, two loops do the trick\n",
    "5. i serves as the loop counter to create the current_row as well as keep track of where we are row-wise in the triangle while j helps keep track of which element in the ith row we are summing\n",
    "6. all rows after creation are appended to result"
   ]
  },
  {
   "cell_type": "code",
   "execution_count": 22,
   "id": "intense-exhibition",
   "metadata": {},
   "outputs": [],
   "source": [
    "class Solution:\n",
    "    def generate(self, numRows: int) -> List[List[int]]:\n",
    "        result = []\n",
    "        for i in range(numRows):\n",
    "            current_row = [None] * (i + 1)\n",
    "            current_row[0], current_row[-1] = 1, 1\n",
    "            \n",
    "            for j in range(1, len(current_row)-1):\n",
    "                current_row[j] = result[i-1][j-1] + result[i-1][j]\n",
    "            result.append(current_row)\n",
    "            \n",
    "        print(result)\n",
    "        return result"
   ]
  },
  {
   "cell_type": "code",
   "execution_count": 23,
   "id": "seven-freeware",
   "metadata": {},
   "outputs": [
    {
     "name": "stdout",
     "output_type": "stream",
     "text": [
      "[[1], [1, 1], [1, 2, 1], [1, 3, 3, 1], [1, 4, 6, 4, 1]]\n"
     ]
    },
    {
     "data": {
      "text/plain": [
       "[[1], [1, 1], [1, 2, 1], [1, 3, 3, 1], [1, 4, 6, 4, 1]]"
      ]
     },
     "execution_count": 23,
     "metadata": {},
     "output_type": "execute_result"
    }
   ],
   "source": [
    "test = Solution()\n",
    "test.generate(5)"
   ]
  },
  {
   "cell_type": "markdown",
   "id": "neural-westminster",
   "metadata": {},
   "source": [
    "## 119. Pascal's Triangle II\n",
    "Easy\n",
    "\n",
    "2525\n",
    "\n",
    "264\n",
    "\n",
    "Add to List\n",
    "\n",
    "Share\n",
    "Given an integer rowIndex, return the rowIndexth (0-indexed) row of the Pascal's triangle.\n",
    "\n",
    "In Pascal's triangle, each number is the sum of the two numbers directly above it as shown:\n",
    "\n",
    "\n",
    " \n",
    "\n",
    "Example 1:\n",
    "\n",
    "Input: rowIndex = 3\n",
    "Output: [1,3,3,1]\n",
    "\n",
    "#### Solution:\n",
    "1. Same algo as previous problem\n",
    "2. Only difference - create a Pascal traingle with one row more\n",
    "3. return result[rowIndex]\n",
    "4. Gotcha: range(rowIndex) to be changed to range(rowIndex + 1)"
   ]
  },
  {
   "cell_type": "code",
   "execution_count": 29,
   "id": "working-bracket",
   "metadata": {},
   "outputs": [],
   "source": [
    "class Solution:\n",
    "    def getRow(self, rowIndex: int) -> List[List[int]]:\n",
    "        result = []\n",
    "        for i in range(rowIndex+1):\n",
    "            current_row = [None] * (i + 1)\n",
    "            current_row[0], current_row[-1] = 1, 1\n",
    "            \n",
    "            for j in range(1, len(current_row)-1):\n",
    "                current_row[j] = result[i-1][j-1] + result[i-1][j]\n",
    "            result.append(current_row)\n",
    "            \n",
    "        print(result)\n",
    "        return result"
   ]
  },
  {
   "cell_type": "code",
   "execution_count": 30,
   "id": "rubber-physiology",
   "metadata": {},
   "outputs": [
    {
     "name": "stdout",
     "output_type": "stream",
     "text": [
      "[[1], [1, 1], [1, 2, 1], [1, 3, 3, 1]]\n"
     ]
    },
    {
     "data": {
      "text/plain": [
       "[[1], [1, 1], [1, 2, 1], [1, 3, 3, 1]]"
      ]
     },
     "execution_count": 30,
     "metadata": {},
     "output_type": "execute_result"
    }
   ],
   "source": [
    "test = Solution()\n",
    "test.getRow(3)"
   ]
  },
  {
   "cell_type": "markdown",
   "id": "unexpected-madonna",
   "metadata": {},
   "source": [
    "## 121. Best Time to Buy and Sell Stock\n",
    "Easy\n",
    "You are given an array prices where prices[i] is the price of a given stock on the ith day.\n",
    "\n",
    "You want to maximize your profit by choosing a single day to buy one stock and choosing a different day in the future to sell that stock.\n",
    "\n",
    "Return the maximum profit you can achieve from this transaction. If you cannot achieve any profit, return 0.\n",
    "\n",
    "Example 1:\n",
    "\n",
    "Input: prices = [7,1,5,3,6,4]\n",
    "Output: 5\n",
    "Explanation: Buy on day 2 (price = 1) and sell on day 5 (price = 6), profit = 6-1 = 5.\n",
    "Note that buying on day 2 and selling on day 1 is not allowed because you must buy before you sell."
   ]
  },
  {
   "cell_type": "code",
   "execution_count": 35,
   "id": "unlimited-three",
   "metadata": {},
   "outputs": [],
   "source": [
    "# Brute force:\n",
    "# 1. Outer Loop - 0 to n \n",
    "# Inner loop - Outer loop + 1 to n\n",
    "# In formal terms, we need to find max(text{prices[j]} - text{prices[i]})max(prices[j]−prices[i]), for every i and j such that j > i.\n",
    "class Solution:\n",
    "    def maxProfit(self, prices: List[int]) -> int:\n",
    "        max_profit = 0\n",
    "        for outer_loop in range(len(prices)):\n",
    "            for inner_loop in range(outer_loop + 1, len(prices)):\n",
    "                current_profit = abs(max(prices[inner_loop] - prices[outer_loop], 0))\n",
    "                print(current_profit)\n",
    "                if max_profit < current_profit:\n",
    "                    max_profit = current_profit\n",
    "        return max_profit\n",
    "                "
   ]
  },
  {
   "cell_type": "code",
   "execution_count": 39,
   "id": "agreed-diving",
   "metadata": {},
   "outputs": [],
   "source": [
    "# One pass\n",
    "# Maintaining two variables:\n",
    "# 1. min_price - one pointer to keep track of min_price\n",
    "# 2. max_profit - one pointer to keep track of maximum profit\n",
    "class Solution:\n",
    "    def maxProfit(self, prices: List[int]) -> int:\n",
    "        max_profit = 0\n",
    "        min_price = float('inf')\n",
    "        for i in range(len(prices)):\n",
    "            if prices[i] < min_price:\n",
    "                min_price = prices[i]\n",
    "            elif prices[i] - min_price > max_profit:\n",
    "                max_profit = prices[i] - min_price\n",
    "        return max_profit"
   ]
  },
  {
   "cell_type": "code",
   "execution_count": 40,
   "id": "executed-hebrew",
   "metadata": {},
   "outputs": [
    {
     "data": {
      "text/plain": [
       "5"
      ]
     },
     "execution_count": 40,
     "metadata": {},
     "output_type": "execute_result"
    }
   ],
   "source": [
    "a = [7,1,5,3,6,4]\n",
    "test = Solution()\n",
    "test.maxProfit(a)"
   ]
  },
  {
   "cell_type": "markdown",
   "id": "challenging-triple",
   "metadata": {},
   "source": [
    "## 136. Single Number\n",
    "Easy\n",
    "\n",
    "Given a non-empty array of integers nums, every element appears twice except for one. Find that single one.\n",
    "You must implement a solution with a linear runtime complexity and use only constant extra space.\n",
    "Example 1:\n",
    "\n",
    "Input: nums = [2,2,1]\n",
    "Output: 1"
   ]
  },
  {
   "cell_type": "code",
   "execution_count": 41,
   "id": "hazardous-melbourne",
   "metadata": {},
   "outputs": [],
   "source": [
    "## 1. Brute force: O(n**2) and O(n)\n",
    "class Solution:\n",
    "    def singleNumber(self, nums: List[int]) -> int:\n",
    "        no_duplicate = []\n",
    "        for element in nums:\n",
    "            if element not in no_duplicate:\n",
    "                no_duplicate.append(element)\n",
    "            else:\n",
    "                no_duplicate.remove(element)\n",
    "        return no_duplicate.pop()"
   ]
  },
  {
   "cell_type": "code",
   "execution_count": 60,
   "id": "sustained-allah",
   "metadata": {},
   "outputs": [
    {
     "name": "stdout",
     "output_type": "stream",
     "text": [
      "2 pre_xor 0\n",
      "2 post_xor 2\n",
      "2 pre_xor 2\n",
      "2 post_xor 0\n",
      "1 pre_xor 0\n",
      "1 post_xor 1\n",
      "1 pre_xor 1\n",
      "1 post_xor 0\n",
      "3 pre_xor 0\n",
      "3 post_xor 3\n",
      "4 pre_xor 3\n",
      "4 post_xor 7\n",
      "5 pre_xor 7\n",
      "5 post_xor 2\n",
      "5 pre_xor 2\n",
      "5 post_xor 7\n",
      "4 pre_xor 7\n",
      "4 post_xor 3\n"
     ]
    },
    {
     "data": {
      "text/plain": [
       "3"
      ]
     },
     "execution_count": 60,
     "metadata": {},
     "output_type": "execute_result"
    }
   ],
   "source": [
    "test = Solution()\n",
    "test.singleNumber([2,2,1,1,3,4,5,5,4])"
   ]
  },
  {
   "cell_type": "code",
   "execution_count": 49,
   "id": "opposed-chapter",
   "metadata": {},
   "outputs": [],
   "source": [
    "from collections import defaultdict"
   ]
  },
  {
   "cell_type": "code",
   "execution_count": 51,
   "id": "immune-bonus",
   "metadata": {},
   "outputs": [],
   "source": [
    "## 2. Hash Map force: O(n) and O(n)\n",
    "class Solution:\n",
    "    def singleNumber(self, nums: List[int]) -> int:\n",
    "        no_duplicate = defaultdict(int)\n",
    "        \n",
    "        for element in nums:\n",
    "            no_duplicate[element] += 1\n",
    "        for key in no_duplicate:\n",
    "            if no_duplicate[key] == 1:\n",
    "                return key"
   ]
  },
  {
   "cell_type": "code",
   "execution_count": 52,
   "id": "occupational-constitution",
   "metadata": {},
   "outputs": [],
   "source": [
    "## 3. Sum - Mathematical approach => 2 * (a+b+c) - (a+a+b+b+c) = c - O(n); O(n)\n",
    "class Solution:\n",
    "    def singleNumber(self, nums: List[int]) -> int:\n",
    "        return  2 * sum(set(nums)) - sum(nums)"
   ]
  },
  {
   "cell_type": "code",
   "execution_count": 59,
   "id": "romantic-scene",
   "metadata": {},
   "outputs": [],
   "source": [
    "## 4. XOR Operation - a number XOR with 0 returns itself; a number XOR with itself returns zero\n",
    "class Solution:\n",
    "    def singleNumber(self, nums: List[int]) -> int:\n",
    "        a = 0\n",
    "        for element in nums:\n",
    "            print(element, 'pre_xor', a)\n",
    "            a = a ^ element\n",
    "            print(element, 'post_xor', a)\n",
    "        return a"
   ]
  },
  {
   "cell_type": "markdown",
   "id": "waiting-mentor",
   "metadata": {},
   "source": [
    "## 163. Missing Ranges\n",
    "Easy\n",
    "You are given an inclusive range [lower, upper] and a sorted unique integer array nums, where all elements are in the inclusive range.\n",
    "\n",
    "A number x is considered missing if x is in the range [lower, upper] and x is not in nums.\n",
    "\n",
    "Return the smallest sorted list of ranges that cover every missing number exactly. That is, no element of nums is in any of the ranges, and each missing number is in one of the ranges.\n",
    "\n",
    "Each range [a,b] in the list should be output as:\n",
    "\n",
    "\"a->b\" if a != b\n",
    "\"a\" if a == b\n",
    "Example 1:\n",
    "\n",
    "Input: nums = [0,1,3,50,75], lower = 0, upper = 99\n",
    "Output: [\"2\",\"4->49\",\"51->74\",\"76->99\"]\n",
    "Explanation: The ranges are:\n",
    "[2,2] --> \"2\"\n",
    "[4,49] --> \"4->49\"\n",
    "[51,74] --> \"51->74\"\n",
    "[76,99] --> \"76->99\""
   ]
  },
  {
   "cell_type": "code",
   "execution_count": 92,
   "id": "skilled-michael",
   "metadata": {},
   "outputs": [],
   "source": [
    "class Solution:\n",
    "    def findMissingRanges(self, nums: List[int], lower: int, upper: int) -> List[str]:\n",
    "        \n",
    "        def format_range(lower, upper):\n",
    "            if lower == upper:\n",
    "                return str(lower)\n",
    "            return str(lower) + \"->\" + str(upper)\n",
    "        \n",
    "        result = []\n",
    "        \n",
    "        previous_val = lower - 1    # [prefix=lower-1] [nums] [suffix=upper+1]\n",
    "        for idx in range(len(nums) + 1):\n",
    "            if idx < len(nums):\n",
    "                current_val = nums[idx]\n",
    "            else:\n",
    "                current_val = upper + 1\n",
    "            \n",
    "            if previous_val + 1 <= current_val - 1:\n",
    "                result.append(format_range(previous_val + 1, current_val - 1))\n",
    "            previous_val = current_val\n",
    "        return result"
   ]
  },
  {
   "cell_type": "code",
   "execution_count": 91,
   "id": "latter-spotlight",
   "metadata": {},
   "outputs": [
    {
     "name": "stdout",
     "output_type": "stream",
     "text": [
      "current_range::nums[i]::nums[j]::::2::1::3\n",
      "current_range::nums[i]::nums[j]::::4->49::3::50\n",
      "current_range::nums[i]::nums[j]::::51->74::50::75\n",
      "['2', '4->49', '51->74', '76->98']\n"
     ]
    },
    {
     "data": {
      "text/plain": [
       "['2', '4->49', '51->74', '76->98']"
      ]
     },
     "execution_count": 91,
     "metadata": {},
     "output_type": "execute_result"
    }
   ],
   "source": [
    "test = Solution()\n",
    "test.findMissingRanges([1,3,50,75], 0, 99)"
   ]
  },
  {
   "cell_type": "markdown",
   "id": "employed-tulsa",
   "metadata": {},
   "source": [
    "## 169. Majority Element\n",
    "Easy\n",
    "Given an array nums of size n, return the majority element.\n",
    "\n",
    "The majority element is the element that appears more than ⌊n / 2⌋ times. You may assume that the majority element always exists in the array.\n",
    "\n",
    "Example 1:\n",
    "\n",
    "Input: nums = [3,2,3]\n",
    "Output: 3"
   ]
  },
  {
   "cell_type": "code",
   "execution_count": 93,
   "id": "liquid-scout",
   "metadata": {},
   "outputs": [],
   "source": [
    "class Solution:\n",
    "    def majorityElement(self, nums: List[int]) -> int:\n",
    "        nums.sort()\n",
    "        return nums[len(nums)//2]"
   ]
  },
  {
   "cell_type": "code",
   "execution_count": null,
   "id": "broke-instruction",
   "metadata": {},
   "outputs": [],
   "source": [
    "class Solution:\n",
    "    def majorityElement(self, nums: List[int]) -> int:\n",
    "        nums_count = defaultdict(int)\n",
    "        for i in nums:\n",
    "            nums_count[i] += 1\n",
    "        \n",
    "        majority_element = max(nums_count.values())\n",
    "        for key in nums_count:\n",
    "            if nums_count[key] == majority_element:\n",
    "                return key"
   ]
  },
  {
   "cell_type": "code",
   "execution_count": null,
   "id": "painted-chart",
   "metadata": {},
   "outputs": [],
   "source": [
    "## Boyer Moore Voting Algorithm\n",
    "class Solution:\n",
    "    def majorityElement(self, nums: List[int]) -> int:\n",
    "        count = 0\n",
    "        candidate = None\n",
    "        for i in nums:\n",
    "            if count == 0:\n",
    "                candidate = i\n",
    "            if candidate == i:\n",
    "                count += 1\n",
    "            else:\n",
    "                count -= 1\n",
    "        return candidate"
   ]
  },
  {
   "cell_type": "markdown",
   "id": "public-tours",
   "metadata": {},
   "source": [
    "## 170. Two Sum III - Data structure design\n",
    "Easy\n",
    "\n",
    "Design a data structure that accepts a stream of integers and checks if it has a pair of integers that sum up to a particular value.\n",
    "\n",
    "Implement the TwoSum class:\n",
    "\n",
    "TwoSum() Initializes the TwoSum object, with an empty array initially.\n",
    "void add(int number) Adds number to the data structure.\n",
    "boolean find(int value) Returns true if there exists any pair of numbers whose sum is equal to value, otherwise, it returns false.\n",
    " \n",
    "\n",
    "Example 1:\n",
    "\n",
    "Input\n",
    "[\"TwoSum\", \"add\", \"add\", \"add\", \"find\", \"find\"]\n",
    "[[], [1], [3], [5], [4], [7]]\n",
    "Output\n",
    "[null, null, null, null, true, false]"
   ]
  },
  {
   "cell_type": "code",
   "execution_count": 123,
   "id": "sudden-farming",
   "metadata": {},
   "outputs": [],
   "source": [
    "class TwoSum:\n",
    "\n",
    "    def __init__(self):\n",
    "        self.result = {}\n",
    "        \n",
    "\n",
    "    def add(self, number: int) -> None:\n",
    "        if number in self.result:\n",
    "            self.result[number] += 1\n",
    "        else:\n",
    "            self.result[number] = 1\n",
    "\n",
    "    def find(self, value: int) -> bool:\n",
    "        for num in self.result.keys():\n",
    "            complement = value - num\n",
    "            if num != complement:\n",
    "                if complement in self.result:\n",
    "                    return True\n",
    "            elif self.result[num] > 1:\n",
    "                return True\n",
    "        \n",
    "        return False\n"
   ]
  },
  {
   "cell_type": "code",
   "execution_count": 124,
   "id": "progressive-priest",
   "metadata": {},
   "outputs": [
    {
     "data": {
      "text/plain": [
       "False"
      ]
     },
     "execution_count": 124,
     "metadata": {},
     "output_type": "execute_result"
    }
   ],
   "source": [
    "# [\"TwoSum\",\"add\",\"add\",\"add\",\"find\",\"find\",\"find\",\"find\",\"find\"]\n",
    "# [[],[3],[2],[1],[2],[3],[4],[5],[6]]\n",
    "test = TwoSum()\n",
    "test.add(3)\n",
    "test.add(2)\n",
    "test.add(1)\n",
    "test.find(2)"
   ]
  },
  {
   "cell_type": "code",
   "execution_count": 113,
   "id": "monetary-environment",
   "metadata": {},
   "outputs": [],
   "source": [
    "# [\"TwoSum\",\"add\",\"add\",\"add\",\"find\",\"find\"]\n",
    "# [[],[1],[3],[5],[4],[7]]\n",
    "test = TwoSum()\n",
    "test.add(1)\n",
    "test.add(3)\n",
    "test.add(5)"
   ]
  },
  {
   "cell_type": "markdown",
   "id": "realistic-amino",
   "metadata": {},
   "source": [
    "## 217. Contains Duplicate\n",
    "Easy\n",
    "\n",
    "Given an integer array nums, return true if any value appears at least twice in the array, and return false if every element is distinct.\n",
    "\n",
    "Example 1:\n",
    "\n",
    "Input: nums = [1,2,3,1]\n",
    "Output: true"
   ]
  },
  {
   "cell_type": "code",
   "execution_count": 125,
   "id": "executed-acrobat",
   "metadata": {},
   "outputs": [],
   "source": [
    "from collections import Counter"
   ]
  },
  {
   "cell_type": "code",
   "execution_count": 127,
   "id": "collaborative-count",
   "metadata": {},
   "outputs": [],
   "source": [
    "class Solution:\n",
    "    def containsDuplicate(self, nums: List[int]) -> bool:\n",
    "        nums_dict = Counter(nums)\n",
    "        for num in nums:\n",
    "            if nums_dict[num] >= 2:\n",
    "                return True\n",
    "        return False"
   ]
  },
  {
   "cell_type": "code",
   "execution_count": 130,
   "id": "afraid-scout",
   "metadata": {},
   "outputs": [],
   "source": [
    "test = Solution()\n",
    "assert test.containsDuplicate([1,2,3,1]) == True"
   ]
  },
  {
   "cell_type": "markdown",
   "id": "earlier-obligation",
   "metadata": {},
   "source": [
    "## 219. Contains Duplicate II\n",
    "Easy\n",
    "\n",
    "Given an integer array nums and an integer k, return true if there are two distinct indices i and j in the array such that nums[i] == nums[j] and abs(i - j) <= k.\n",
    "\n",
    "Example 1:\n",
    "\n",
    "Input: nums = [1,2,3,1], k = 3\n",
    "Output: true"
   ]
  },
  {
   "cell_type": "code",
   "execution_count": 141,
   "id": "abandoned-timber",
   "metadata": {},
   "outputs": [],
   "source": [
    "class Solution:\n",
    "    def containsNearbyDuplicate(self, nums: List[int], k: int) -> bool:\n",
    "        nums_dict = {}\n",
    "        for idx in range(len(nums)):\n",
    "            \n",
    "            if nums[idx] in nums_dict:\n",
    "                return True\n",
    "            nums_dict[nums[idx]] = True\n",
    "            if len(nums_dict) > k:\n",
    "                nums_dict.pop(nums[idx-k])\n",
    "            \n",
    "        return False"
   ]
  },
  {
   "cell_type": "code",
   "execution_count": 142,
   "id": "dynamic-relevance",
   "metadata": {},
   "outputs": [],
   "source": [
    "test = Solution()\n",
    "assert test.containsNearbyDuplicate([1,2,3,1], 3) == True"
   ]
  },
  {
   "cell_type": "markdown",
   "id": "increased-biography",
   "metadata": {},
   "source": [
    "## 228. Summary Ranges\n",
    "Easy\n",
    "\n",
    "You are given a sorted unique integer array nums.\n",
    "\n",
    "A range [a,b] is the set of all integers from a to b (inclusive).\n",
    "\n",
    "Return the smallest sorted list of ranges that cover all the numbers in the array exactly. That is, each element of nums is covered by exactly one of the ranges, and there is no integer x such that x is in one of the ranges but not in nums.\n",
    "\n",
    "Each range [a,b] in the list should be output as:\n",
    "\n",
    "\"a->b\" if a != b\n",
    "\"a\" if a == b\n",
    "\n",
    "Example 1:\n",
    "\n",
    "Input: nums = [0,1,2,4,5,7]\n",
    "Output: [\"0->2\",\"4->5\",\"7\"]\n",
    "Explanation: The ranges are:\n",
    "[0,2] --> \"0->2\"\n",
    "[4,5] --> \"4->5\"\n",
    "[7,7] --> \"7\""
   ]
  },
  {
   "cell_type": "code",
   "execution_count": null,
   "id": "anticipated-saint",
   "metadata": {},
   "outputs": [],
   "source": []
  }
 ],
 "metadata": {
  "kernelspec": {
   "display_name": "Python 3 (ipykernel)",
   "language": "python",
   "name": "python3"
  },
  "language_info": {
   "codemirror_mode": {
    "name": "ipython",
    "version": 3
   },
   "file_extension": ".py",
   "mimetype": "text/x-python",
   "name": "python",
   "nbconvert_exporter": "python",
   "pygments_lexer": "ipython3",
   "version": "3.9.10"
  }
 },
 "nbformat": 4,
 "nbformat_minor": 5
}
