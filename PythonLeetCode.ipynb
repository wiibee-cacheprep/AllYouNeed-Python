{
 "cells": [
  {
   "cell_type": "markdown",
   "id": "through-attitude",
   "metadata": {},
   "source": [
    "### Reference:\n",
    "https://leetcode.com/discuss/career/448285/List-of-questions-sorted-by-common-patterns\n",
    "1. 2 Heaps\n",
    "2. Arrays\n",
    "3. Backtracking\n",
    "4. Dynamic Programming\n",
    "5. Fast & Slow pointers\n",
    "6. Graph Traversal\n",
    "7. In-place traversal of LL\n",
    "8. K-way merge\n",
    "9. Merge Intervals\n",
    "10. Modified Binary Search\n",
    "11. Sliding window\n",
    "12. Top K elements\n",
    "13. Topological Sorting\n",
    "14. Tree BFS\n",
    "15. Tree DFS\n",
    "16. Two Pointers"
   ]
  },
  {
   "cell_type": "markdown",
   "id": "accessible-command",
   "metadata": {},
   "source": [
    "# Arrays:"
   ]
  },
  {
   "cell_type": "markdown",
   "id": "beginning-paris",
   "metadata": {},
   "source": [
    "### Q 11. Container With Most Water\n",
    "1. Medium\n",
    "2. Description\n",
    "    1. You are given an integer array height of length n. There are n vertical lines drawn such that the two endpoints of the ith line are (i, 0) and (i, height[i]). Find two lines that together with the x-axis form a container, such that the container contains the most water.\n",
    "    2. Return the maximum amount of water a container can store. Notice that you may not slant the container.\n",
    "3. Input: height = [1,8,6,2,5,4,8,3,7] | Output: 49 | Explanation: The above vertical lines are represented by array [1,8,6,2,5,4,8,3,7]. In this case, the max area of water (blue section) the container can contain is 49."
   ]
  },
  {
   "cell_type": "code",
   "execution_count": 3,
   "id": "tracked-sheriff",
   "metadata": {},
   "outputs": [],
   "source": [
    "from typing import List, Dict, Tuple"
   ]
  },
  {
   "cell_type": "code",
   "execution_count": 7,
   "id": "driven-retrieval",
   "metadata": {},
   "outputs": [],
   "source": [
    "height = [1,8,6,2,5,4,8,3,7]"
   ]
  },
  {
   "cell_type": "code",
   "execution_count": 9,
   "id": "mighty-adaptation",
   "metadata": {},
   "outputs": [],
   "source": [
    "# Q 11. Container With Most Water\n",
    "# Solution 1: Brute Force - Time Limit Exceeded\n",
    "class Solution:\n",
    "    def maxArea(self, height: List[int]) -> int:\n",
    "        max_area = float(\"-Inf\")\n",
    "        for i in range(len(height)):\n",
    "            for j in range(i, len(height)):\n",
    "                current_area = min(height[i], height[j]) * (j - i)\n",
    "                if current_area > max_area:\n",
    "                    max_area = current_area \n",
    "        return max_area\n",
    "            \n",
    "        "
   ]
  },
  {
   "cell_type": "code",
   "execution_count": 11,
   "id": "second-fleece",
   "metadata": {},
   "outputs": [],
   "source": [
    "test_maxArea = Solution()\n",
    "assert test_maxArea.maxArea(height) == 49, \"Incorrect result\""
   ]
  },
  {
   "cell_type": "code",
   "execution_count": 12,
   "id": "numerous-latex",
   "metadata": {},
   "outputs": [],
   "source": [
    "# Q 11. Container With Most Water\n",
    "# Solution 2: 2-Pointer Approach\n",
    "class Solution:\n",
    "    def maxArea(self, height: List[int]) -> int:\n",
    "        max_area = float(\"-Inf\")\n",
    "        left = 0\n",
    "        right = len(height) - 1\n",
    "        while left < right:\n",
    "            current_area = min(height[left], height[right]) * (right - left)\n",
    "            if current_area > max_area:\n",
    "                max_area = current_area\n",
    "            if height[left] < height[right]:\n",
    "                left += 1\n",
    "            else:\n",
    "                right -= 1\n",
    "        return max_area"
   ]
  },
  {
   "cell_type": "code",
   "execution_count": 13,
   "id": "million-forge",
   "metadata": {},
   "outputs": [],
   "source": [
    "test_maxArea = Solution()\n",
    "assert test_maxArea.maxArea(height) == 49, \"Incorrect result\""
   ]
  },
  {
   "cell_type": "markdown",
   "id": "varying-mexican",
   "metadata": {},
   "source": [
    "## Q 15. 3Sum\n",
    "Medium\n",
    "1. Given an integer array nums, return all the triplets [nums[i], nums[j], nums[k]] such that i != j, i != k, and j != k, and nums[i] + nums[j] + nums[k] == 0.\n",
    "2. Notice that the solution set must not contain duplicate triplets.\n",
    "\n",
    "Example 1:\n",
    "Input: nums = [-1,0,1,2,-1,-4]\n",
    "Output: [[-1,-1,2],[-1,0,1]]"
   ]
  },
  {
   "cell_type": "code",
   "execution_count": 45,
   "id": "efficient-spyware",
   "metadata": {},
   "outputs": [],
   "source": [
    "# Solution: Two Pointers after sorting\n",
    "# O(n**2)\n",
    "class Solution:\n",
    "    def threeSum(self, nums: List[int]) -> List[List[int]]:\n",
    "        nums.sort()\n",
    "        result = []\n",
    "        for pivot in range(len(nums)):\n",
    "            if nums[pivot] > 0:\n",
    "                break\n",
    "            if pivot == 0 or nums[pivot-1] != nums[pivot]:\n",
    "                left = pivot + 1\n",
    "                right = len(nums) - 1\n",
    "                while left < right:\n",
    "                    current_sum = nums[pivot] + nums[left] + nums[right]\n",
    "                    if current_sum < 0:\n",
    "                        left += 1\n",
    "                    elif current_sum > 0:\n",
    "                        right -= 1\n",
    "                    else:\n",
    "                        result.append([nums[pivot], nums[left], nums[right]])\n",
    "                        left += 1\n",
    "                        right -= 1\n",
    "                        while left < right and nums[left - 1] == nums[left]:\n",
    "                            left += 1\n",
    "        return result"
   ]
  },
  {
   "cell_type": "code",
   "execution_count": 48,
   "id": "innocent-steel",
   "metadata": {},
   "outputs": [],
   "source": [
    "test_threeSum = Solution()\n",
    "assert test_threeSum.threeSum([-1,0,1,2,-1,-4]) == [[-1,-1,2],[-1,0,1]]"
   ]
  },
  {
   "cell_type": "code",
   "execution_count": 47,
   "id": "hairy-license",
   "metadata": {},
   "outputs": [
    {
     "data": {
      "text/plain": [
       "[[-1, -1, 2], [-1, 0, 1]]"
      ]
     },
     "execution_count": 47,
     "metadata": {},
     "output_type": "execute_result"
    }
   ],
   "source": [
    "test_threeSum.threeSum([-1,0,1,2,-1,-4])"
   ]
  },
  {
   "cell_type": "markdown",
   "id": "increased-america",
   "metadata": {},
   "source": [
    "### 16. 3Sum Closest\n",
    "Medium\n",
    "Given an integer array nums of length n and an integer target, find three integers in nums such that the sum is closest to target.\n",
    "Return the sum of the three integers.\n",
    "You may assume that each input would have exactly one solution.\n",
    "\n",
    "Example 1:\n",
    "\n",
    "Input: nums = [-1,2,1,-4], target = 1\n",
    "Output: 2\n",
    "Explanation: The sum that is closest to the target is 2. (-1 + 2 + 1 = 2)."
   ]
  },
  {
   "cell_type": "code",
   "execution_count": 55,
   "id": "material-watts",
   "metadata": {},
   "outputs": [],
   "source": [
    "# Two Pointer - Brute Force"
   ]
  },
  {
   "cell_type": "code",
   "execution_count": 53,
   "id": "dependent-highway",
   "metadata": {},
   "outputs": [],
   "source": [
    "# Two Pointer with Sorting \n",
    "class Solution:\n",
    "    def threeSumClosest(self, nums: List[int], target: int) -> int:\n",
    "        nums.sort()\n",
    "        minimum_difference = float('inf')\n",
    "        for pivot in range(len(nums)):\n",
    "            left = pivot + 1\n",
    "            right = len(nums) - 1\n",
    "            while left < right:\n",
    "                current_sum = nums[pivot] + nums[left] + nums[right]\n",
    "                current_difference = abs(target - current_sum) \n",
    "                if current_difference < abs(minimum_difference):\n",
    "                    minimum_difference = target - current_sum\n",
    "                if current_sum < target:\n",
    "                    left += 1\n",
    "                else:\n",
    "                    right -= 1\n",
    "            if minimum_difference == 0:\n",
    "                break\n",
    "        return target - minimum_difference\n",
    "                "
   ]
  },
  {
   "cell_type": "code",
   "execution_count": 54,
   "id": "hired-distinction",
   "metadata": {},
   "outputs": [
    {
     "data": {
      "text/plain": [
       "1"
      ]
     },
     "execution_count": 54,
     "metadata": {},
     "output_type": "execute_result"
    }
   ],
   "source": [
    "test_threeSumClosest = Solution()\n",
    "test_threeSumClosest.threeSumClosest([-1,2,1,-4], 1)"
   ]
  },
  {
   "cell_type": "code",
   "execution_count": null,
   "id": "opponent-anchor",
   "metadata": {},
   "outputs": [],
   "source": []
  }
 ],
 "metadata": {
  "kernelspec": {
   "display_name": "Python 3",
   "language": "python",
   "name": "python3"
  },
  "language_info": {
   "codemirror_mode": {
    "name": "ipython",
    "version": 3
   },
   "file_extension": ".py",
   "mimetype": "text/x-python",
   "name": "python",
   "nbconvert_exporter": "python",
   "pygments_lexer": "ipython3",
   "version": "3.9.1"
  }
 },
 "nbformat": 4,
 "nbformat_minor": 5
}
