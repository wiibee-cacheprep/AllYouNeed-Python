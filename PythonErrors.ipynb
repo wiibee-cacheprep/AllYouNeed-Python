{
 "cells": [
  {
   "cell_type": "markdown",
   "id": "billion-breath",
   "metadata": {},
   "source": [
    "### List of Errors and Exceptions: (More common ones in bold)\n",
    "1. **AssertionError**\n",
    "2. **AttributeError**\n",
    "3. **EOFError**\n",
    "4. **FloatingPointError**\n",
    "5. GeneratorExit\n",
    "6. **ImportError**\n",
    "7. **IndexError**\n",
    "8. **KeyError**\n",
    "9. KeyboardInterrupt\n",
    "10. MemoryError\n",
    "11. **NameError**\n",
    "12. **NotImplementedError**\n",
    "13. OSError\n",
    "14. OverflowError\n",
    "15. ReferenceError\n",
    "16. RuntimeError\n",
    "17. **StopIteration**\n",
    "18. **SyntaxError**\n",
    "19. **IndentationError**\n",
    "20. TabError\n",
    "21. SystemError\n",
    "22. SystemExit\n",
    "23. TypeError\n",
    "24. **UnboundLocalError**\n",
    "25. **UnicodeError**"
   ]
  },
  {
   "cell_type": "markdown",
   "id": "tropical-satellite",
   "metadata": {},
   "source": [
    "### 1. AssertionError\n",
    "1. It appears when an assert statement fails.\n",
    "2. assert is a keyword used during debugging.\n",
    "3. It is used extensively for unit testing functions and ensuring they do what you expect them to do.\n",
    "4. It will return the message after ',' if the condition returns False.\n",
    "5. Always use it during DSA interviews."
   ]
  },
  {
   "cell_type": "code",
   "execution_count": 6,
   "id": "improving-grave",
   "metadata": {},
   "outputs": [
    {
     "ename": "AssertionError",
     "evalue": "2 is not equal to 3",
     "output_type": "error",
     "traceback": [
      "\u001b[0;31m---------------------------------------------------------------------------\u001b[0m",
      "\u001b[0;31mAssertionError\u001b[0m                            Traceback (most recent call last)",
      "\u001b[0;32m<ipython-input-6-28bbbf4ef9b7>\u001b[0m in \u001b[0;36m<module>\u001b[0;34m\u001b[0m\n\u001b[0;32m----> 1\u001b[0;31m \u001b[0;32massert\u001b[0m \u001b[0;36m2\u001b[0m \u001b[0;34m==\u001b[0m \u001b[0;36m3\u001b[0m\u001b[0;34m,\u001b[0m \u001b[0;34m\"2 is not equal to 3\"\u001b[0m\u001b[0;34m\u001b[0m\u001b[0;34m\u001b[0m\u001b[0m\n\u001b[0m",
      "\u001b[0;31mAssertionError\u001b[0m: 2 is not equal to 3"
     ]
    }
   ],
   "source": [
    "assert 2 == 3, \"2 is not equal to 3\""
   ]
  },
  {
   "cell_type": "code",
   "execution_count": 7,
   "id": "focal-twenty",
   "metadata": {},
   "outputs": [],
   "source": [
    "def add_integers(a, b):\n",
    "    return a + b\n",
    "assert add_integers(2,3) == 5, \"Incorrect answer\""
   ]
  },
  {
   "cell_type": "markdown",
   "id": "informal-jurisdiction",
   "metadata": {},
   "source": [
    "### 2. AttributeError\n",
    "1. It appears when attribute assignment or reference fails."
   ]
  },
  {
   "cell_type": "code",
   "execution_count": 13,
   "id": "rubber-listing",
   "metadata": {},
   "outputs": [],
   "source": [
    "# Attribute Assignment Failure\n",
    "class AttributeErrorDemo:\n",
    "    def __init__(self):\n",
    "        self.attribute_a = 0"
   ]
  },
  {
   "cell_type": "code",
   "execution_count": 16,
   "id": "finished-theater",
   "metadata": {},
   "outputs": [
    {
     "ename": "AttributeError",
     "evalue": "'AttributeErrorDemo' object has no attribute 'attribute_b'",
     "output_type": "error",
     "traceback": [
      "\u001b[0;31m---------------------------------------------------------------------------\u001b[0m",
      "\u001b[0;31mAttributeError\u001b[0m                            Traceback (most recent call last)",
      "\u001b[0;32m<ipython-input-16-b7c6863a4b3a>\u001b[0m in \u001b[0;36m<module>\u001b[0;34m\u001b[0m\n\u001b[1;32m      5\u001b[0m \u001b[0;34m\u001b[0m\u001b[0m\n\u001b[1;32m      6\u001b[0m \u001b[0;31m# attribute_b is absent. It will cause an attribute error.\u001b[0m\u001b[0;34m\u001b[0m\u001b[0;34m\u001b[0m\u001b[0;34m\u001b[0m\u001b[0m\n\u001b[0;32m----> 7\u001b[0;31m \u001b[0mattribute_error_demo_instance\u001b[0m\u001b[0;34m.\u001b[0m\u001b[0mattribute_b\u001b[0m\u001b[0;34m\u001b[0m\u001b[0;34m\u001b[0m\u001b[0m\n\u001b[0m",
      "\u001b[0;31mAttributeError\u001b[0m: 'AttributeErrorDemo' object has no attribute 'attribute_b'"
     ]
    }
   ],
   "source": [
    "attribute_error_demo_instance = AttributeErrorDemo()"
   ]
  },
  {
   "cell_type": "markdown",
   "id": "furnished-sullivan",
   "metadata": {},
   "source": [
    "**attribute_a is present**"
   ]
  },
  {
   "cell_type": "code",
   "execution_count": 17,
   "id": "massive-tribute",
   "metadata": {},
   "outputs": [
    {
     "data": {
      "text/plain": [
       "0"
      ]
     },
     "execution_count": 17,
     "metadata": {},
     "output_type": "execute_result"
    }
   ],
   "source": [
    "attribute_error_demo_instance.attribute_a"
   ]
  },
  {
   "cell_type": "markdown",
   "id": "material-slovenia",
   "metadata": {},
   "source": [
    "**attribute_b is absent**.\n",
    "1. It will cause the attribute error since we are trying to access something which is not present."
   ]
  },
  {
   "cell_type": "code",
   "execution_count": 18,
   "id": "oriental-bible",
   "metadata": {},
   "outputs": [
    {
     "ename": "AttributeError",
     "evalue": "'AttributeErrorDemo' object has no attribute 'attribute_b'",
     "output_type": "error",
     "traceback": [
      "\u001b[0;31m---------------------------------------------------------------------------\u001b[0m",
      "\u001b[0;31mAttributeError\u001b[0m                            Traceback (most recent call last)",
      "\u001b[0;32m<ipython-input-18-59c3afbb33fe>\u001b[0m in \u001b[0;36m<module>\u001b[0;34m\u001b[0m\n\u001b[0;32m----> 1\u001b[0;31m \u001b[0mattribute_error_demo_instance\u001b[0m\u001b[0;34m.\u001b[0m\u001b[0mattribute_b\u001b[0m\u001b[0;34m\u001b[0m\u001b[0;34m\u001b[0m\u001b[0m\n\u001b[0m",
      "\u001b[0;31mAttributeError\u001b[0m: 'AttributeErrorDemo' object has no attribute 'attribute_b'"
     ]
    }
   ],
   "source": [
    "attribute_error_demo_instance.attribute_b"
   ]
  },
  {
   "cell_type": "markdown",
   "id": "revised-astrology",
   "metadata": {},
   "source": [
    "**Using ```python __dict__ ``` to see available attributes**\n",
    "1. Available attributes are returned as dictionary of key:value pairs."
   ]
  },
  {
   "cell_type": "code",
   "execution_count": 19,
   "id": "pregnant-journey",
   "metadata": {},
   "outputs": [
    {
     "data": {
      "text/plain": [
       "{'attribute_a': 0}"
      ]
     },
     "execution_count": 19,
     "metadata": {},
     "output_type": "execute_result"
    }
   ],
   "source": [
    "attribute_error_demo_instance.__dict__"
   ]
  },
  {
   "cell_type": "markdown",
   "id": "accepting-backup",
   "metadata": {},
   "source": [
    "**Using ```python dir() ``` to see all available attributes and methods**"
   ]
  },
  {
   "cell_type": "code",
   "execution_count": 20,
   "id": "global-mapping",
   "metadata": {},
   "outputs": [
    {
     "data": {
      "text/plain": [
       "['__class__',\n",
       " '__delattr__',\n",
       " '__dict__',\n",
       " '__dir__',\n",
       " '__doc__',\n",
       " '__eq__',\n",
       " '__format__',\n",
       " '__ge__',\n",
       " '__getattribute__',\n",
       " '__gt__',\n",
       " '__hash__',\n",
       " '__init__',\n",
       " '__init_subclass__',\n",
       " '__le__',\n",
       " '__lt__',\n",
       " '__module__',\n",
       " '__ne__',\n",
       " '__new__',\n",
       " '__reduce__',\n",
       " '__reduce_ex__',\n",
       " '__repr__',\n",
       " '__setattr__',\n",
       " '__sizeof__',\n",
       " '__str__',\n",
       " '__subclasshook__',\n",
       " '__weakref__',\n",
       " 'attribute_a']"
      ]
     },
     "execution_count": 20,
     "metadata": {},
     "output_type": "execute_result"
    }
   ],
   "source": [
    "dir(attribute_error_demo_instance)"
   ]
  },
  {
   "cell_type": "markdown",
   "id": "simple-psychiatry",
   "metadata": {},
   "source": [
    "### 3. EOFError\t\n",
    "1. It appears Rwhen the input() function hits end-of-file condition.\n",
    "2. It occurs when an invalid input is provided to the input() function.\n",
    "3. Refer to this link for more information: \n",
    "https://codefather.tech/blog/python-unexpected-eof-while-parsing/\n",
    "4. I was unable to product this error in Jupyter Notebook.\n",
    "5. Attached is screenshot of error in terminal\n",
    "<img src='img/PythonErrors_EOFError.png'>\n",
    "          "
   ]
  },
  {
   "cell_type": "code",
   "execution_count": null,
   "id": "rotary-ecuador",
   "metadata": {},
   "outputs": [],
   "source": []
  },
  {
   "cell_type": "code",
   "execution_count": 30,
   "id": "amber-basketball",
   "metadata": {},
   "outputs": [],
   "source": [
    "# Run this code in terminal and hit Ctrl D to exit when prompted for second input b.\n",
    "def sum_user_input():\n",
    "    a = input('Enter a')\n",
    "    b = input('Enter b')\n",
    "    return int(a) + int(b)\n",
    "\n",
    "# sum_user_input()"
   ]
  },
  {
   "cell_type": "markdown",
   "id": "opposite-gothic",
   "metadata": {},
   "source": [
    "### 4. FloatingPointError\t\n",
    "1. It occurs when a floating point operation fails.\n",
    "2. It is a whole world in itself.\n",
    "3. Refer to https://floating-point-gui.de/basic/ for a more comprehensive understanding.\n",
    "4. Refer to https://docs.oracle.com/cd/E19957-01/806-3568/ncg_goldberg.html if you really like pain!\n",
    "5. This stack overflow link also has great discussions - https://stackoverflow.com/questions/588004/is-floating-point-math-broken\n",
    "6. Let me show you something unbelievable! How can 0.1 + 0.2 not be equal to 0.3? It is because how these numbers are internally represented."
   ]
  },
  {
   "cell_type": "code",
   "execution_count": 34,
   "id": "quiet-budget",
   "metadata": {},
   "outputs": [
    {
     "data": {
      "text/plain": [
       "False"
      ]
     },
     "execution_count": 34,
     "metadata": {},
     "output_type": "execute_result"
    }
   ],
   "source": [
    "0.1 + 0.2 == 0.3"
   ]
  },
  {
   "cell_type": "markdown",
   "id": "earned-badge",
   "metadata": {},
   "source": [
    "### 5. GeneratorExit\n",
    "1. It calls generator.close().\n",
    "2. For more details, refer to https://docs.python.org/3/reference/expressions.html#generator.close"
   ]
  },
  {
   "cell_type": "code",
   "execution_count": 68,
   "id": "neither-bleeding",
   "metadata": {},
   "outputs": [],
   "source": [
    "count = 10\n",
    "def print_integer(upper_limit):\n",
    "    try:\n",
    "        for i in range(0, upper_limit):\n",
    "            yield i\n",
    "    finally:\n",
    "        print(\"Close is called\")"
   ]
  },
  {
   "cell_type": "code",
   "execution_count": 69,
   "id": "southwest-london",
   "metadata": {},
   "outputs": [],
   "source": [
    "a = print_integer(3)"
   ]
  },
  {
   "cell_type": "code",
   "execution_count": 70,
   "id": "increased-reality",
   "metadata": {},
   "outputs": [
    {
     "data": {
      "text/plain": [
       "0"
      ]
     },
     "execution_count": 70,
     "metadata": {},
     "output_type": "execute_result"
    }
   ],
   "source": [
    "next(a)"
   ]
  },
  {
   "cell_type": "code",
   "execution_count": 71,
   "id": "behavioral-richardson",
   "metadata": {},
   "outputs": [
    {
     "name": "stdout",
     "output_type": "stream",
     "text": [
      "Close is called\n"
     ]
    }
   ],
   "source": [
    "# generator.exit()\n",
    "a.close()"
   ]
  },
  {
   "cell_type": "markdown",
   "id": "registered-limit",
   "metadata": {},
   "source": [
    "### 6. ImportError\t\n",
    "1. It appears when the imported module is not found.\n",
    "2. It is one of the most common erros faced by a beginner.\n",
    "3. Use pip install <module_not_found_name> to install the module.\n",
    "4. You can use !pip install <module_not_found_name> to install from inside Jupyter Notebook."
   ]
  },
  {
   "cell_type": "code",
   "execution_count": 1,
   "id": "integral-graphic",
   "metadata": {},
   "outputs": [
    {
     "ename": "ModuleNotFoundError",
     "evalue": "No module named 'scipy'",
     "output_type": "error",
     "traceback": [
      "\u001b[0;31m---------------------------------------------------------------------------\u001b[0m",
      "\u001b[0;31mModuleNotFoundError\u001b[0m                       Traceback (most recent call last)",
      "\u001b[0;32m<ipython-input-1-4363d2be0702>\u001b[0m in \u001b[0;36m<module>\u001b[0;34m\u001b[0m\n\u001b[0;32m----> 1\u001b[0;31m \u001b[0;32mimport\u001b[0m \u001b[0mscipy\u001b[0m\u001b[0;34m\u001b[0m\u001b[0;34m\u001b[0m\u001b[0m\n\u001b[0m",
      "\u001b[0;31mModuleNotFoundError\u001b[0m: No module named 'scipy'"
     ]
    }
   ],
   "source": [
    "import scipy"
   ]
  },
  {
   "cell_type": "code",
   "execution_count": null,
   "id": "brilliant-forum",
   "metadata": {},
   "outputs": [],
   "source": [
    "!pip install scipy"
   ]
  },
  {
   "cell_type": "markdown",
   "id": "distinguished-musical",
   "metadata": {},
   "source": [
    "### 7. IndexError\t\n",
    "1. It occurs when the index of a sequence is out of range.\n",
    "2. It is one of the most common erros you will encounter when solving a coding problem due to setting the loop counter incorrectly.\n",
    "3. It also happens due to incorrect indexing a sequence (string or list)."
   ]
  },
  {
   "cell_type": "code",
   "execution_count": 2,
   "id": "beginning-drain",
   "metadata": {},
   "outputs": [
    {
     "data": {
      "text/plain": [
       "20"
      ]
     },
     "execution_count": 2,
     "metadata": {},
     "output_type": "execute_result"
    }
   ],
   "source": [
    "# String\n",
    "sample_string = \"I am a Python coder.\"\n",
    "len(sample_string)    # Length is 20. Hence, the indexing is available till length - 1 = 19 as Python is zero-indexed."
   ]
  },
  {
   "cell_type": "code",
   "execution_count": 5,
   "id": "consecutive-distributor",
   "metadata": {},
   "outputs": [
    {
     "data": {
      "text/plain": [
       "'.'"
      ]
     },
     "execution_count": 5,
     "metadata": {},
     "output_type": "execute_result"
    }
   ],
   "source": [
    "sample_string[19]"
   ]
  },
  {
   "cell_type": "code",
   "execution_count": 8,
   "id": "employed-sheep",
   "metadata": {},
   "outputs": [
    {
     "ename": "IndexError",
     "evalue": "string index out of range",
     "output_type": "error",
     "traceback": [
      "\u001b[0;31m---------------------------------------------------------------------------\u001b[0m",
      "\u001b[0;31mIndexError\u001b[0m                                Traceback (most recent call last)",
      "\u001b[0;32m<ipython-input-8-09e0e7cee0ea>\u001b[0m in \u001b[0;36m<module>\u001b[0;34m\u001b[0m\n\u001b[0;32m----> 1\u001b[0;31m \u001b[0msample_string\u001b[0m\u001b[0;34m[\u001b[0m\u001b[0;36m20\u001b[0m\u001b[0;34m]\u001b[0m\u001b[0;34m\u001b[0m\u001b[0;34m\u001b[0m\u001b[0m\n\u001b[0m",
      "\u001b[0;31mIndexError\u001b[0m: string index out of range"
     ]
    }
   ],
   "source": [
    "sample_string[20]"
   ]
  },
  {
   "cell_type": "code",
   "execution_count": 11,
   "id": "protected-packing",
   "metadata": {},
   "outputs": [
    {
     "ename": "IndexError",
     "evalue": "list index out of range",
     "output_type": "error",
     "traceback": [
      "\u001b[0;31m---------------------------------------------------------------------------\u001b[0m",
      "\u001b[0;31mIndexError\u001b[0m                                Traceback (most recent call last)",
      "\u001b[0;32m<ipython-input-11-3ddb7685c247>\u001b[0m in \u001b[0;36m<module>\u001b[0;34m\u001b[0m\n\u001b[1;32m      1\u001b[0m \u001b[0;31m# List\u001b[0m\u001b[0;34m\u001b[0m\u001b[0;34m\u001b[0m\u001b[0;34m\u001b[0m\u001b[0m\n\u001b[1;32m      2\u001b[0m \u001b[0msample_list\u001b[0m \u001b[0;34m=\u001b[0m \u001b[0;34m[\u001b[0m\u001b[0;34m]\u001b[0m\u001b[0;34m\u001b[0m\u001b[0;34m\u001b[0m\u001b[0m\n\u001b[0;32m----> 3\u001b[0;31m \u001b[0msample_list\u001b[0m\u001b[0;34m[\u001b[0m\u001b[0;36m0\u001b[0m\u001b[0;34m]\u001b[0m    \u001b[0;31m# Since the list is empty\u001b[0m\u001b[0;34m\u001b[0m\u001b[0;34m\u001b[0m\u001b[0m\n\u001b[0m",
      "\u001b[0;31mIndexError\u001b[0m: list index out of range"
     ]
    }
   ],
   "source": [
    "# List\n",
    "sample_list = []\n",
    "sample_list[0]    # Since the list is empty"
   ]
  },
  {
   "cell_type": "code",
   "execution_count": 13,
   "id": "unsigned-paraguay",
   "metadata": {},
   "outputs": [
    {
     "name": "stdout",
     "output_type": "stream",
     "text": [
      "2\n",
      "3\n",
      "4\n",
      "5\n"
     ]
    },
    {
     "ename": "IndexError",
     "evalue": "list index out of range",
     "output_type": "error",
     "traceback": [
      "\u001b[0;31m---------------------------------------------------------------------------\u001b[0m",
      "\u001b[0;31mIndexError\u001b[0m                                Traceback (most recent call last)",
      "\u001b[0;32m<ipython-input-13-fae4358f2833>\u001b[0m in \u001b[0;36m<module>\u001b[0;34m\u001b[0m\n\u001b[1;32m      3\u001b[0m \u001b[0;32mfor\u001b[0m \u001b[0mi\u001b[0m \u001b[0;32min\u001b[0m \u001b[0mrange\u001b[0m\u001b[0;34m(\u001b[0m\u001b[0mlen\u001b[0m\u001b[0;34m(\u001b[0m\u001b[0msample_list\u001b[0m\u001b[0;34m)\u001b[0m\u001b[0;34m)\u001b[0m\u001b[0;34m:\u001b[0m\u001b[0;34m\u001b[0m\u001b[0;34m\u001b[0m\u001b[0m\n\u001b[1;32m      4\u001b[0m     \u001b[0mj\u001b[0m \u001b[0;34m=\u001b[0m \u001b[0mi\u001b[0m\u001b[0;34m+\u001b[0m\u001b[0;36m1\u001b[0m\u001b[0;34m\u001b[0m\u001b[0;34m\u001b[0m\u001b[0m\n\u001b[0;32m----> 5\u001b[0;31m     \u001b[0mprint\u001b[0m\u001b[0;34m(\u001b[0m\u001b[0msample_list\u001b[0m\u001b[0;34m[\u001b[0m\u001b[0mj\u001b[0m\u001b[0;34m]\u001b[0m\u001b[0;34m)\u001b[0m\u001b[0;34m\u001b[0m\u001b[0;34m\u001b[0m\u001b[0m\n\u001b[0m",
      "\u001b[0;31mIndexError\u001b[0m: list index out of range"
     ]
    }
   ],
   "source": [
    "sample_list = [1, 2, 3, 4, 5]\n",
    "# Looping error in list due to miscalculation of index where list ends\n",
    "for i in range(len(sample_list)):\n",
    "    j = i+1\n",
    "    print(sample_list[j])    # for the last iteration, j becomes greater than index available."
   ]
  },
  {
   "cell_type": "markdown",
   "id": "dutch-deputy",
   "metadata": {},
   "source": [
    "### 8. KeyError\t\n",
    "1. It appears when a key is not found in a dictionary.\n",
    "2. dict.get() method is the safe option when looking for a key in the dictionary.\n",
    "3. .get() method returns a None value by default if key is absent. It can also return a user-defined value or message."
   ]
  },
  {
   "cell_type": "code",
   "execution_count": 14,
   "id": "british-spank",
   "metadata": {},
   "outputs": [],
   "source": [
    "sample_dict = dict()\n",
    "sample_dict['key_1'] = 'value_1'"
   ]
  },
  {
   "cell_type": "code",
   "execution_count": 15,
   "id": "funded-racing",
   "metadata": {},
   "outputs": [
    {
     "data": {
      "text/plain": [
       "'value_1'"
      ]
     },
     "execution_count": 15,
     "metadata": {},
     "output_type": "execute_result"
    }
   ],
   "source": [
    "sample_dict['key_1']"
   ]
  },
  {
   "cell_type": "code",
   "execution_count": 16,
   "id": "atlantic-investment",
   "metadata": {},
   "outputs": [
    {
     "ename": "KeyError",
     "evalue": "'key_2'",
     "output_type": "error",
     "traceback": [
      "\u001b[0;31m---------------------------------------------------------------------------\u001b[0m",
      "\u001b[0;31mKeyError\u001b[0m                                  Traceback (most recent call last)",
      "\u001b[0;32m<ipython-input-16-cc8b3daba665>\u001b[0m in \u001b[0;36m<module>\u001b[0;34m\u001b[0m\n\u001b[0;32m----> 1\u001b[0;31m \u001b[0msample_dict\u001b[0m\u001b[0;34m[\u001b[0m\u001b[0;34m'key_2'\u001b[0m\u001b[0;34m]\u001b[0m\u001b[0;34m\u001b[0m\u001b[0;34m\u001b[0m\u001b[0m\n\u001b[0m",
      "\u001b[0;31mKeyError\u001b[0m: 'key_2'"
     ]
    }
   ],
   "source": [
    "sample_dict['key_2']"
   ]
  },
  {
   "cell_type": "code",
   "execution_count": 20,
   "id": "bright-refund",
   "metadata": {},
   "outputs": [
    {
     "name": "stdout",
     "output_type": "stream",
     "text": [
      "None\n"
     ]
    }
   ],
   "source": [
    "# Using .get() method with default return value of None\n",
    "print(sample_dict.get('key_2'))"
   ]
  },
  {
   "cell_type": "code",
   "execution_count": 19,
   "id": "acoustic-manor",
   "metadata": {},
   "outputs": [
    {
     "name": "stdout",
     "output_type": "stream",
     "text": [
      "key is absent!\n"
     ]
    }
   ],
   "source": [
    "# Using .get() method with user defined value\n",
    "print(sample_dict.get('key_2', 'key is absent!'))"
   ]
  },
  {
   "cell_type": "markdown",
   "id": "adopted-change",
   "metadata": {},
   "source": [
    "### 9. KeyboardInterrupt\n",
    "1. It appears when the user hits the interrupt key (Ctrl+C or Delete).\n",
    "2. The script or code that is under execution is stopped.\n",
    "3. In Jupyter, pressing 'I' twice after selecting the cell stops the code."
   ]
  },
  {
   "cell_type": "code",
   "execution_count": 22,
   "id": "documentary-pakistan",
   "metadata": {},
   "outputs": [
    {
     "ename": "KeyboardInterrupt",
     "evalue": "Interrupted by user",
     "output_type": "error",
     "traceback": [
      "\u001b[0;31m---------------------------------------------------------------------------\u001b[0m",
      "\u001b[0;31mKeyboardInterrupt\u001b[0m                         Traceback (most recent call last)",
      "\u001b[0;32m<ipython-input-22-e545bb9f1333>\u001b[0m in \u001b[0;36m<module>\u001b[0;34m\u001b[0m\n\u001b[1;32m      1\u001b[0m \u001b[0;32mwhile\u001b[0m \u001b[0;32mTrue\u001b[0m\u001b[0;34m:\u001b[0m\u001b[0;34m\u001b[0m\u001b[0;34m\u001b[0m\u001b[0m\n\u001b[0;32m----> 2\u001b[0;31m     \u001b[0ma\u001b[0m \u001b[0;34m=\u001b[0m \u001b[0minput\u001b[0m\u001b[0;34m(\u001b[0m\u001b[0;34m'Enter a: '\u001b[0m\u001b[0;34m)\u001b[0m\u001b[0;34m\u001b[0m\u001b[0;34m\u001b[0m\u001b[0m\n\u001b[0m\u001b[1;32m      3\u001b[0m     \u001b[0mb\u001b[0m \u001b[0;34m=\u001b[0m \u001b[0minput\u001b[0m\u001b[0;34m(\u001b[0m\u001b[0;34m'Enter b: '\u001b[0m\u001b[0;34m)\u001b[0m\u001b[0;34m\u001b[0m\u001b[0;34m\u001b[0m\u001b[0m\n\u001b[1;32m      4\u001b[0m     \u001b[0;32mif\u001b[0m \u001b[0ma\u001b[0m \u001b[0;34m==\u001b[0m \u001b[0;34m'stop'\u001b[0m\u001b[0;34m:\u001b[0m\u001b[0;34m\u001b[0m\u001b[0;34m\u001b[0m\u001b[0m\n\u001b[1;32m      5\u001b[0m         \u001b[0;32mbreak\u001b[0m\u001b[0;34m\u001b[0m\u001b[0;34m\u001b[0m\u001b[0m\n",
      "\u001b[0;32m~/.pyenv/versions/3.9.1/envs/data_science/lib/python3.9/site-packages/ipykernel/kernelbase.py\u001b[0m in \u001b[0;36mraw_input\u001b[0;34m(self, prompt)\u001b[0m\n\u001b[1;32m    846\u001b[0m                 \u001b[0;34m\"raw_input was called, but this frontend does not support input requests.\"\u001b[0m\u001b[0;34m\u001b[0m\u001b[0;34m\u001b[0m\u001b[0m\n\u001b[1;32m    847\u001b[0m             )\n\u001b[0;32m--> 848\u001b[0;31m         return self._input_request(str(prompt),\n\u001b[0m\u001b[1;32m    849\u001b[0m             \u001b[0mself\u001b[0m\u001b[0;34m.\u001b[0m\u001b[0m_parent_ident\u001b[0m\u001b[0;34m,\u001b[0m\u001b[0;34m\u001b[0m\u001b[0;34m\u001b[0m\u001b[0m\n\u001b[1;32m    850\u001b[0m             \u001b[0mself\u001b[0m\u001b[0;34m.\u001b[0m\u001b[0m_parent_header\u001b[0m\u001b[0;34m,\u001b[0m\u001b[0;34m\u001b[0m\u001b[0;34m\u001b[0m\u001b[0m\n",
      "\u001b[0;32m~/.pyenv/versions/3.9.1/envs/data_science/lib/python3.9/site-packages/ipykernel/kernelbase.py\u001b[0m in \u001b[0;36m_input_request\u001b[0;34m(self, prompt, ident, parent, password)\u001b[0m\n\u001b[1;32m    890\u001b[0m             \u001b[0;32mexcept\u001b[0m \u001b[0mKeyboardInterrupt\u001b[0m\u001b[0;34m:\u001b[0m\u001b[0;34m\u001b[0m\u001b[0;34m\u001b[0m\u001b[0m\n\u001b[1;32m    891\u001b[0m                 \u001b[0;31m# re-raise KeyboardInterrupt, to truncate traceback\u001b[0m\u001b[0;34m\u001b[0m\u001b[0;34m\u001b[0m\u001b[0;34m\u001b[0m\u001b[0m\n\u001b[0;32m--> 892\u001b[0;31m                 \u001b[0;32mraise\u001b[0m \u001b[0mKeyboardInterrupt\u001b[0m\u001b[0;34m(\u001b[0m\u001b[0;34m\"Interrupted by user\"\u001b[0m\u001b[0;34m)\u001b[0m \u001b[0;32mfrom\u001b[0m \u001b[0;32mNone\u001b[0m\u001b[0;34m\u001b[0m\u001b[0;34m\u001b[0m\u001b[0m\n\u001b[0m\u001b[1;32m    893\u001b[0m             \u001b[0;32mexcept\u001b[0m \u001b[0mException\u001b[0m \u001b[0;32mas\u001b[0m \u001b[0me\u001b[0m\u001b[0;34m:\u001b[0m\u001b[0;34m\u001b[0m\u001b[0;34m\u001b[0m\u001b[0m\n\u001b[1;32m    894\u001b[0m                 \u001b[0mself\u001b[0m\u001b[0;34m.\u001b[0m\u001b[0mlog\u001b[0m\u001b[0;34m.\u001b[0m\u001b[0mwarning\u001b[0m\u001b[0;34m(\u001b[0m\u001b[0;34m\"Invalid Message:\"\u001b[0m\u001b[0;34m,\u001b[0m \u001b[0mexc_info\u001b[0m\u001b[0;34m=\u001b[0m\u001b[0;32mTrue\u001b[0m\u001b[0;34m)\u001b[0m\u001b[0;34m\u001b[0m\u001b[0;34m\u001b[0m\u001b[0m\n",
      "\u001b[0;31mKeyboardInterrupt\u001b[0m: Interrupted by user"
     ]
    }
   ],
   "source": [
    "while True:\n",
    "    a = input('Enter a: ')    # Pressing I twice stops the execution\n",
    "    b = input('Enter b: ')\n",
    "    if a == 'stop':\n",
    "        break\n",
    "    print(a+b)"
   ]
  },
  {
   "cell_type": "markdown",
   "id": "charming-favor",
   "metadata": {},
   "source": [
    "## 10. MemoryError\n",
    "1. It occurs when an operation runs out of memory.\n",
    "2. It may happend during an infinite loop or infinite recursion.\n",
    "3. It may not be safe to product this error deliberately on a computer.\n",
    "4. I tried producing this error using math.factorial() of a large number but it kept on freezing."
   ]
  },
  {
   "cell_type": "markdown",
   "id": "linear-turkish",
   "metadata": {},
   "source": [
    "### 11. NameError\n",
    "1. It is raised when a variable is not found in local or global scope.\n",
    "2. It is again one of the more common erros a beginner with face.\n",
    "3. Python uses Local-Enclosing-Global-Built-in (LEGB) scoping.\n",
    "<img src='img/PythonScope_LEGB_Rule.png'/>"
   ]
  },
  {
   "cell_type": "code",
   "execution_count": 24,
   "id": "attended-authorization",
   "metadata": {},
   "outputs": [
    {
     "ename": "NameError",
     "evalue": "name 'sample_name' is not defined",
     "output_type": "error",
     "traceback": [
      "\u001b[0;31m---------------------------------------------------------------------------\u001b[0m",
      "\u001b[0;31mNameError\u001b[0m                                 Traceback (most recent call last)",
      "\u001b[0;32m<ipython-input-24-c0f090fa820a>\u001b[0m in \u001b[0;36m<module>\u001b[0;34m\u001b[0m\n\u001b[0;32m----> 1\u001b[0;31m \u001b[0mprint\u001b[0m\u001b[0;34m(\u001b[0m\u001b[0msample_name\u001b[0m\u001b[0;34m)\u001b[0m\u001b[0;34m\u001b[0m\u001b[0;34m\u001b[0m\u001b[0m\n\u001b[0m",
      "\u001b[0;31mNameError\u001b[0m: name 'sample_name' is not defined"
     ]
    }
   ],
   "source": [
    "print(sample_name)"
   ]
  },
  {
   "cell_type": "code",
   "execution_count": 25,
   "id": "sacred-philosophy",
   "metadata": {},
   "outputs": [
    {
     "name": "stdout",
     "output_type": "stream",
     "text": [
      "hello python\n"
     ]
    }
   ],
   "source": [
    "sample_name = 'hello python'\n",
    "print(sample_name)"
   ]
  },
  {
   "cell_type": "markdown",
   "id": "smaller-peripheral",
   "metadata": {},
   "source": [
    "### 12. NotImplementedError\n",
    "1. It is raised by abstract methods.\n",
    "2. When a method is provided for in a class, say to standardise a method name, but the exact implementation is left vacant for the user to customise and implement as per their requirement, it may raise this error.\n",
    "3. As per documentation, in user defined base classes, abstract methods should raise this exception when they require derived classes to override the method, or while the class is being developed to indicate that the real implementation still needs to be added.\n",
    "4. For more details, refer to https://stackoverflow.com/questions/44315961/when-to-use-raise-notimplementederror"
   ]
  },
  {
   "cell_type": "code",
   "execution_count": 85,
   "id": "historic-interaction",
   "metadata": {},
   "outputs": [],
   "source": [
    "class BaseClassDemo:\n",
    "    def __init__(self):\n",
    "        self.result = dict()\n",
    "    def get(self, key):\n",
    "        raise NotImplementedError\n",
    "    def set(self, key, value):\n",
    "        self.result[key] = value\n",
    "    "
   ]
  },
  {
   "cell_type": "code",
   "execution_count": 86,
   "id": "nominated-quantum",
   "metadata": {},
   "outputs": [],
   "source": [
    "a = BaseClassDemo()\n",
    "a.set('key_1', 'value_1')"
   ]
  },
  {
   "cell_type": "code",
   "execution_count": 29,
   "id": "exempt-estonia",
   "metadata": {},
   "outputs": [
    {
     "data": {
      "text/plain": [
       "{'key_1': 'value_1'}"
      ]
     },
     "execution_count": 29,
     "metadata": {},
     "output_type": "execute_result"
    }
   ],
   "source": [
    "a.result"
   ]
  },
  {
   "cell_type": "code",
   "execution_count": 30,
   "id": "sized-permit",
   "metadata": {},
   "outputs": [
    {
     "ename": "NotImplementedError",
     "evalue": "",
     "output_type": "error",
     "traceback": [
      "\u001b[0;31m---------------------------------------------------------------------------\u001b[0m",
      "\u001b[0;31mNotImplementedError\u001b[0m                       Traceback (most recent call last)",
      "\u001b[0;32m<ipython-input-30-64285ca1a9fd>\u001b[0m in \u001b[0;36m<module>\u001b[0;34m\u001b[0m\n\u001b[0;32m----> 1\u001b[0;31m \u001b[0ma\u001b[0m\u001b[0;34m.\u001b[0m\u001b[0mget\u001b[0m\u001b[0;34m(\u001b[0m\u001b[0;34m'key_1'\u001b[0m\u001b[0;34m)\u001b[0m\u001b[0;34m\u001b[0m\u001b[0;34m\u001b[0m\u001b[0m\n\u001b[0m",
      "\u001b[0;32m<ipython-input-27-3cb636f7935f>\u001b[0m in \u001b[0;36mget\u001b[0;34m(self, key)\u001b[0m\n\u001b[1;32m      3\u001b[0m         \u001b[0mself\u001b[0m\u001b[0;34m.\u001b[0m\u001b[0mresult\u001b[0m \u001b[0;34m=\u001b[0m \u001b[0mdict\u001b[0m\u001b[0;34m(\u001b[0m\u001b[0;34m)\u001b[0m\u001b[0;34m\u001b[0m\u001b[0;34m\u001b[0m\u001b[0m\n\u001b[1;32m      4\u001b[0m     \u001b[0;32mdef\u001b[0m \u001b[0mget\u001b[0m\u001b[0;34m(\u001b[0m\u001b[0mself\u001b[0m\u001b[0;34m,\u001b[0m \u001b[0mkey\u001b[0m\u001b[0;34m)\u001b[0m\u001b[0;34m:\u001b[0m\u001b[0;34m\u001b[0m\u001b[0;34m\u001b[0m\u001b[0m\n\u001b[0;32m----> 5\u001b[0;31m         \u001b[0;32mraise\u001b[0m \u001b[0mNotImplementedError\u001b[0m\u001b[0;34m\u001b[0m\u001b[0;34m\u001b[0m\u001b[0m\n\u001b[0m\u001b[1;32m      6\u001b[0m     \u001b[0;32mdef\u001b[0m \u001b[0mset\u001b[0m\u001b[0;34m(\u001b[0m\u001b[0mself\u001b[0m\u001b[0;34m,\u001b[0m \u001b[0mkey\u001b[0m\u001b[0;34m,\u001b[0m \u001b[0mvalue\u001b[0m\u001b[0;34m)\u001b[0m\u001b[0;34m:\u001b[0m\u001b[0;34m\u001b[0m\u001b[0;34m\u001b[0m\u001b[0m\n\u001b[1;32m      7\u001b[0m         \u001b[0mself\u001b[0m\u001b[0;34m.\u001b[0m\u001b[0mresult\u001b[0m\u001b[0;34m[\u001b[0m\u001b[0mkey\u001b[0m\u001b[0;34m]\u001b[0m \u001b[0;34m=\u001b[0m \u001b[0mvalue\u001b[0m\u001b[0;34m\u001b[0m\u001b[0;34m\u001b[0m\u001b[0m\n",
      "\u001b[0;31mNotImplementedError\u001b[0m: "
     ]
    }
   ],
   "source": [
    "a.get('key_1')"
   ]
  },
  {
   "cell_type": "code",
   "execution_count": 31,
   "id": "pleasant-front",
   "metadata": {},
   "outputs": [],
   "source": [
    "# Creating a derived class which inherits these methods and implements the get() method\n",
    "class DerivedClassDemo(BaseClassDemo):\n",
    "    def get(self, key):\n",
    "        return self.result.get(key, 'Key not found')"
   ]
  },
  {
   "cell_type": "code",
   "execution_count": 33,
   "id": "central-failing",
   "metadata": {},
   "outputs": [],
   "source": [
    "b = DerivedClassDemo()\n",
    "b.set('key_2', 'value_2')"
   ]
  },
  {
   "cell_type": "code",
   "execution_count": 35,
   "id": "arranged-yellow",
   "metadata": {},
   "outputs": [
    {
     "data": {
      "text/plain": [
       "'value_2'"
      ]
     },
     "execution_count": 35,
     "metadata": {},
     "output_type": "execute_result"
    }
   ],
   "source": [
    "b.get('key_2')"
   ]
  },
  {
   "cell_type": "code",
   "execution_count": 37,
   "id": "outstanding-delaware",
   "metadata": {
    "scrolled": true
   },
   "outputs": [
    {
     "data": {
      "text/plain": [
       "'Key not found'"
      ]
     },
     "execution_count": 37,
     "metadata": {},
     "output_type": "execute_result"
    }
   ],
   "source": [
    "b.get('key_1')"
   ]
  },
  {
   "cell_type": "markdown",
   "id": "compound-marketplace",
   "metadata": {},
   "source": [
    "### 13. OSError\n",
    "1. It is raised when system operation causes system related error.\n",
    "2. It is the error class for the os module, which is raised when an os specific system function returns a system-related error, including I/O failures such as “file not found” or “disk full”.\n",
    "3. It may again be unsafe to produce this error deliberately!"
   ]
  },
  {
   "cell_type": "markdown",
   "id": "hindu-active",
   "metadata": {},
   "source": [
    "### 14. OverflowError\n",
    "1. It appears when the result of an arithmetic operation is too large to be represented."
   ]
  },
  {
   "cell_type": "code",
   "execution_count": 38,
   "id": "freelance-consultation",
   "metadata": {},
   "outputs": [
    {
     "name": "stdout",
     "output_type": "stream",
     "text": [
      "The exponential value is\n"
     ]
    },
    {
     "ename": "OverflowError",
     "evalue": "math range error",
     "output_type": "error",
     "traceback": [
      "\u001b[0;31m---------------------------------------------------------------------------\u001b[0m",
      "\u001b[0;31mOverflowError\u001b[0m                             Traceback (most recent call last)",
      "\u001b[0;32m<ipython-input-38-7f4ce1496721>\u001b[0m in \u001b[0;36m<module>\u001b[0;34m\u001b[0m\n\u001b[1;32m      1\u001b[0m \u001b[0;32mimport\u001b[0m \u001b[0mmath\u001b[0m\u001b[0;34m\u001b[0m\u001b[0;34m\u001b[0m\u001b[0m\n\u001b[1;32m      2\u001b[0m \u001b[0mprint\u001b[0m\u001b[0;34m(\u001b[0m\u001b[0;34m\"The exponential value is\"\u001b[0m\u001b[0;34m)\u001b[0m\u001b[0;34m\u001b[0m\u001b[0;34m\u001b[0m\u001b[0m\n\u001b[0;32m----> 3\u001b[0;31m \u001b[0mprint\u001b[0m\u001b[0;34m(\u001b[0m\u001b[0mmath\u001b[0m\u001b[0;34m.\u001b[0m\u001b[0mexp\u001b[0m\u001b[0;34m(\u001b[0m\u001b[0;36m1000\u001b[0m\u001b[0;34m)\u001b[0m\u001b[0;34m)\u001b[0m\u001b[0;34m\u001b[0m\u001b[0;34m\u001b[0m\u001b[0m\n\u001b[0m",
      "\u001b[0;31mOverflowError\u001b[0m: math range error"
     ]
    }
   ],
   "source": [
    "import math\n",
    "print(\"The exponential value is\")\n",
    "print(math.exp(1000))"
   ]
  },
  {
   "cell_type": "markdown",
   "id": "pleasant-slave",
   "metadata": {},
   "source": [
    "### 15. ReferenceError\n",
    "1. It is raised when a weak reference proxy is used to access an attribute of the referent after the garbage collection.\n",
    "2. Put simply, it helps us understand how referencing inside Python works."
   ]
  },
  {
   "cell_type": "code",
   "execution_count": 46,
   "id": "logical-gates",
   "metadata": {},
   "outputs": [],
   "source": [
    "import gc\n",
    "import weakref\n",
    "  \n",
    "class ReferenceDemo(object):\n",
    "  \n",
    "    def __init__(self, value):\n",
    "        self.value = value\n",
    "      \n",
    "    def __del__(self):\n",
    "        print('(Deleting %s as sample_reference_instance assigned to some other value)' %self)"
   ]
  },
  {
   "cell_type": "code",
   "execution_count": 47,
   "id": "tamil-fairy",
   "metadata": {},
   "outputs": [
    {
     "name": "stdout",
     "output_type": "stream",
     "text": [
      "Originally, before reassignment and garbage collection: value_1\n",
      "(Deleting <__main__.ReferenceDemo object at 0x10a8b7130> as sample_reference_instance assigned to some other value)\n"
     ]
    },
    {
     "ename": "ReferenceError",
     "evalue": "weakly-referenced object no longer exists",
     "output_type": "error",
     "traceback": [
      "\u001b[0;31m---------------------------------------------------------------------------\u001b[0m",
      "\u001b[0;31mReferenceError\u001b[0m                            Traceback (most recent call last)",
      "\u001b[0;32m<ipython-input-47-25ef8ff81b22>\u001b[0m in \u001b[0;36m<module>\u001b[0;34m\u001b[0m\n\u001b[1;32m      4\u001b[0m \u001b[0mprint\u001b[0m\u001b[0;34m(\u001b[0m\u001b[0;34m'Originally, before reassignment and garbage collection:'\u001b[0m\u001b[0;34m,\u001b[0m \u001b[0msample_reference_instance_proxy\u001b[0m\u001b[0;34m.\u001b[0m\u001b[0mvalue\u001b[0m\u001b[0;34m)\u001b[0m\u001b[0;34m\u001b[0m\u001b[0;34m\u001b[0m\u001b[0m\n\u001b[1;32m      5\u001b[0m \u001b[0msample_reference_instance\u001b[0m \u001b[0;34m=\u001b[0m \u001b[0;32mNone\u001b[0m    \u001b[0;31m# Reassigning instance to None - causes __del__ and garbage collection\u001b[0m\u001b[0;34m\u001b[0m\u001b[0;34m\u001b[0m\u001b[0m\n\u001b[0;32m----> 6\u001b[0;31m \u001b[0mprint\u001b[0m \u001b[0;34m(\u001b[0m\u001b[0;34m'After Reassignment - the weakly referenced proxy also changes and is unable to access its original reference:'\u001b[0m\u001b[0;34m,\u001b[0m \u001b[0msample_reference_instance_proxy\u001b[0m\u001b[0;34m.\u001b[0m\u001b[0mvalue\u001b[0m\u001b[0;34m)\u001b[0m\u001b[0;34m\u001b[0m\u001b[0;34m\u001b[0m\u001b[0m\n\u001b[0m",
      "\u001b[0;31mReferenceError\u001b[0m: weakly-referenced object no longer exists"
     ]
    }
   ],
   "source": [
    "sample_reference_instance = ReferenceDemo('value_1')\n",
    "sample_reference_instance_proxy = weakref.proxy(sample_reference_instance)\n",
    "  \n",
    "print('Originally, before reassignment and garbage collection:', sample_reference_instance_proxy.value)\n",
    "sample_reference_instance = None    # Reassigning instance to None - causes __del__ and garbage collection\n",
    "print ('After Reassignment - the weakly referenced proxy also changes and is unable to access its original reference:', \n",
    "       sample_reference_instance_proxy.value)"
   ]
  },
  {
   "cell_type": "markdown",
   "id": "sitting-highway",
   "metadata": {},
   "source": [
    "### 16. RuntimeError\n",
    "1. It appears when an error does not fall under any other category.\n",
    "2. It is like a miscellaneous 'else' statement to capture unforeseen and previously unseen error category.\n",
    "3. it returns the error message with what went wrong."
   ]
  },
  {
   "cell_type": "markdown",
   "id": "wound-hayes",
   "metadata": {},
   "source": [
    "### 17. StopIteration\n",
    "1. It is raised by next() function to indicate that there is no further item to be returned by iterator."
   ]
  },
  {
   "cell_type": "code",
   "execution_count": 87,
   "id": "opponent-ownership",
   "metadata": {},
   "outputs": [],
   "source": [
    "count = 10\n",
    "def print_integer(upper_limit):\n",
    "    try:\n",
    "        for i in range(0, upper_limit):\n",
    "            yield i\n",
    "    finally:\n",
    "        print(\"Close is called\")"
   ]
  },
  {
   "cell_type": "code",
   "execution_count": 54,
   "id": "scenic-victory",
   "metadata": {},
   "outputs": [],
   "source": [
    "a = print_integer(2)"
   ]
  },
  {
   "cell_type": "code",
   "execution_count": 55,
   "id": "split-partner",
   "metadata": {},
   "outputs": [
    {
     "data": {
      "text/plain": [
       "0"
      ]
     },
     "execution_count": 55,
     "metadata": {},
     "output_type": "execute_result"
    }
   ],
   "source": [
    "next(a)"
   ]
  },
  {
   "cell_type": "code",
   "execution_count": 56,
   "id": "abroad-panama",
   "metadata": {},
   "outputs": [
    {
     "data": {
      "text/plain": [
       "1"
      ]
     },
     "execution_count": 56,
     "metadata": {},
     "output_type": "execute_result"
    }
   ],
   "source": [
    "next(a)"
   ]
  },
  {
   "cell_type": "code",
   "execution_count": 57,
   "id": "naughty-notebook",
   "metadata": {},
   "outputs": [
    {
     "name": "stdout",
     "output_type": "stream",
     "text": [
      "Close is called\n"
     ]
    },
    {
     "ename": "StopIteration",
     "evalue": "",
     "output_type": "error",
     "traceback": [
      "\u001b[0;31m---------------------------------------------------------------------------\u001b[0m",
      "\u001b[0;31mStopIteration\u001b[0m                             Traceback (most recent call last)",
      "\u001b[0;32m<ipython-input-57-15841f3f11d4>\u001b[0m in \u001b[0;36m<module>\u001b[0;34m\u001b[0m\n\u001b[0;32m----> 1\u001b[0;31m \u001b[0mnext\u001b[0m\u001b[0;34m(\u001b[0m\u001b[0ma\u001b[0m\u001b[0;34m)\u001b[0m\u001b[0;34m\u001b[0m\u001b[0;34m\u001b[0m\u001b[0m\n\u001b[0m",
      "\u001b[0;31mStopIteration\u001b[0m: "
     ]
    }
   ],
   "source": [
    "next(a)"
   ]
  },
  {
   "cell_type": "markdown",
   "id": "impressed-spending",
   "metadata": {},
   "source": [
    "### 18. SyntaxError \n",
    "1. It is raised by parser when syntax error is encountered.\n",
    "2. It is again one of the most common erros encountered when you are starting to learn coding."
   ]
  },
  {
   "cell_type": "code",
   "execution_count": 59,
   "id": "progressive-flood",
   "metadata": {},
   "outputs": [
    {
     "ename": "SyntaxError",
     "evalue": "EOL while scanning string literal (<ipython-input-59-92475ead9f36>, line 1)",
     "output_type": "error",
     "traceback": [
      "\u001b[0;36m  File \u001b[0;32m\"<ipython-input-59-92475ead9f36>\"\u001b[0;36m, line \u001b[0;32m1\u001b[0m\n\u001b[0;31m    sample_syntax_error = \"This is a string without closing quotes\u001b[0m\n\u001b[0m                                                                  ^\u001b[0m\n\u001b[0;31mSyntaxError\u001b[0m\u001b[0;31m:\u001b[0m EOL while scanning string literal\n"
     ]
    }
   ],
   "source": [
    "sample_syntax_error = \"This is a string without closing quotes"
   ]
  },
  {
   "cell_type": "code",
   "execution_count": 60,
   "id": "recorded-society",
   "metadata": {},
   "outputs": [],
   "source": [
    "sample_syntax_error = \"This is a string without closing quotes\""
   ]
  },
  {
   "cell_type": "markdown",
   "id": "international-express",
   "metadata": {},
   "source": [
    "### 19. IndentationError\n",
    "1. It appears when there is incorrect indentation."
   ]
  },
  {
   "cell_type": "code",
   "execution_count": 62,
   "id": "linear-sympathy",
   "metadata": {},
   "outputs": [
    {
     "ename": "IndentationError",
     "evalue": "expected an indented block (<ipython-input-62-0c8aafc23d7e>, line 2)",
     "output_type": "error",
     "traceback": [
      "\u001b[0;36m  File \u001b[0;32m\"<ipython-input-62-0c8aafc23d7e>\"\u001b[0;36m, line \u001b[0;32m2\u001b[0m\n\u001b[0;31m    print(i)\u001b[0m\n\u001b[0m    ^\u001b[0m\n\u001b[0;31mIndentationError\u001b[0m\u001b[0;31m:\u001b[0m expected an indented block\n"
     ]
    }
   ],
   "source": [
    "for i in range(10):\n",
    "print(i)"
   ]
  },
  {
   "cell_type": "markdown",
   "id": "expressed-rotation",
   "metadata": {},
   "source": [
    "### 20. TabError\n",
    "1. It appears when indentation consists of inconsistent tabs and spaces.\n",
    "2. In many code editors, there is a configuration to setup tabs and its equivalent in spaces.\n",
    "3. During coding, if you use spaces and tabs inconsistently, i.e. 4 spaces by spacebar but 2 spaces by tab, it will cause this error.\n",
    "4. Most of the code editors and Jupyter Notebook is smart enough nowadays to figure out that "
   ]
  },
  {
   "cell_type": "markdown",
   "id": "worth-victor",
   "metadata": {},
   "source": [
    "### 21. SystemError\t\n",
    "1. It occurs when interpreter detects internal error.\n",
    "\n",
    "23. TypeError\tRaised when a function or operation is applied to an object of incorrect type.\n",
    "24. UnboundLocalError\tRaised when a reference is made to a local variable in a function or method, but no value has been bound to that variable.\n",
    "25. UnicodeError\tRaised when a Unicode-related encoding or decoding error occurs."
   ]
  },
  {
   "cell_type": "markdown",
   "id": "micro-exercise",
   "metadata": {},
   "source": [
    "### 22. SystemExit\t\n",
    "1. Raised by sys.exit([arg]) function.\n",
    "2. The optional argument arg can be an integer giving the exit or another type of object. If it is an integer, zero is considered “successful termination”."
   ]
  },
  {
   "cell_type": "code",
   "execution_count": 65,
   "id": "chinese-enterprise",
   "metadata": {},
   "outputs": [
    {
     "ename": "SystemExit",
     "evalue": "The vehicle is not a car!",
     "output_type": "error",
     "traceback": [
      "An exception has occurred, use %tb to see the full traceback.\n",
      "\u001b[0;31mSystemExit\u001b[0m\u001b[0;31m:\u001b[0m The vehicle is not a car!\n"
     ]
    },
    {
     "name": "stderr",
     "output_type": "stream",
     "text": [
      "/Users/paruljuniwal/.pyenv/versions/3.9.1/envs/data_science/lib/python3.9/site-packages/IPython/core/interactiveshell.py:3445: UserWarning: To exit: use 'exit', 'quit', or Ctrl-D.\n",
      "  warn(\"To exit: use 'exit', 'quit', or Ctrl-D.\", stacklevel=1)\n"
     ]
    }
   ],
   "source": [
    "# Demo: sys.exit()\n",
    "import sys\n",
    "\n",
    "number_of_wheels = 4\n",
    "  \n",
    "if number_of_wheels < 18:\n",
    "    # Program will be exited\n",
    "    sys.exit(\"The vehicle is not a car!\")    \n",
    "else:\n",
    "    print(\"Vehicle appears to be a car\")"
   ]
  },
  {
   "cell_type": "markdown",
   "id": "imported-scroll",
   "metadata": {},
   "source": [
    "### 23. TypeError\n",
    "1. It is raised when a function or operation is applied to an object of incorrect type."
   ]
  },
  {
   "cell_type": "code",
   "execution_count": 66,
   "id": "exact-grocery",
   "metadata": {},
   "outputs": [
    {
     "ename": "TypeError",
     "evalue": "'int' object is not subscriptable",
     "output_type": "error",
     "traceback": [
      "\u001b[0;31m---------------------------------------------------------------------------\u001b[0m",
      "\u001b[0;31mTypeError\u001b[0m                                 Traceback (most recent call last)",
      "\u001b[0;32m<ipython-input-66-760df5eaa39c>\u001b[0m in \u001b[0;36m<module>\u001b[0;34m\u001b[0m\n\u001b[1;32m      1\u001b[0m \u001b[0ma\u001b[0m \u001b[0;34m=\u001b[0m \u001b[0;36m1\u001b[0m\u001b[0;34m\u001b[0m\u001b[0;34m\u001b[0m\u001b[0m\n\u001b[0;32m----> 2\u001b[0;31m \u001b[0ma\u001b[0m\u001b[0;34m[\u001b[0m\u001b[0;36m0\u001b[0m\u001b[0;34m]\u001b[0m\u001b[0;34m\u001b[0m\u001b[0;34m\u001b[0m\u001b[0m\n\u001b[0m",
      "\u001b[0;31mTypeError\u001b[0m: 'int' object is not subscriptable"
     ]
    }
   ],
   "source": [
    "# Indexing an integer\n",
    "a = 1\n",
    "a[0]"
   ]
  },
  {
   "cell_type": "code",
   "execution_count": 67,
   "id": "casual-melissa",
   "metadata": {},
   "outputs": [
    {
     "ename": "TypeError",
     "evalue": "can only concatenate str (not \"int\") to str",
     "output_type": "error",
     "traceback": [
      "\u001b[0;31m---------------------------------------------------------------------------\u001b[0m",
      "\u001b[0;31mTypeError\u001b[0m                                 Traceback (most recent call last)",
      "\u001b[0;32m<ipython-input-67-bbf2c5980c1a>\u001b[0m in \u001b[0;36m<module>\u001b[0;34m\u001b[0m\n\u001b[1;32m      1\u001b[0m \u001b[0mx\u001b[0m \u001b[0;34m=\u001b[0m \u001b[0;34m'a'\u001b[0m\u001b[0;34m\u001b[0m\u001b[0;34m\u001b[0m\u001b[0m\n\u001b[1;32m      2\u001b[0m \u001b[0my\u001b[0m \u001b[0;34m=\u001b[0m \u001b[0;36m2\u001b[0m\u001b[0;34m\u001b[0m\u001b[0;34m\u001b[0m\u001b[0m\n\u001b[0;32m----> 3\u001b[0;31m \u001b[0mx\u001b[0m \u001b[0;34m+\u001b[0m \u001b[0my\u001b[0m\u001b[0;34m\u001b[0m\u001b[0;34m\u001b[0m\u001b[0m\n\u001b[0m",
      "\u001b[0;31mTypeError\u001b[0m: can only concatenate str (not \"int\") to str"
     ]
    }
   ],
   "source": [
    "# Concatenating string with integer\n",
    "x = 'a'\n",
    "y = 2\n",
    "x + y"
   ]
  },
  {
   "cell_type": "markdown",
   "id": "pursuant-chase",
   "metadata": {},
   "source": [
    "### 24. UnboundLocalError\n",
    "1. It is raised when a reference is made to a local variable in a function or method, but no value has been bound to that variable."
   ]
  },
  {
   "cell_type": "code",
   "execution_count": 74,
   "id": "initial-worship",
   "metadata": {},
   "outputs": [],
   "source": [
    "def sample_local_error(val):\n",
    "    if val <= 5:\n",
    "        print(message)\n",
    "    else:\n",
    "        message = \"val is greater than 5\"\n",
    "        print(message)"
   ]
  },
  {
   "cell_type": "code",
   "execution_count": 75,
   "id": "undefined-mexican",
   "metadata": {},
   "outputs": [
    {
     "ename": "UnboundLocalError",
     "evalue": "local variable 'message' referenced before assignment",
     "output_type": "error",
     "traceback": [
      "\u001b[0;31m---------------------------------------------------------------------------\u001b[0m",
      "\u001b[0;31mUnboundLocalError\u001b[0m                         Traceback (most recent call last)",
      "\u001b[0;32m<ipython-input-75-2397661056e9>\u001b[0m in \u001b[0;36m<module>\u001b[0;34m\u001b[0m\n\u001b[1;32m      1\u001b[0m \u001b[0;31m# The function above thows unbound local error for val < 5 while it works fine for val > 5.\u001b[0m\u001b[0;34m\u001b[0m\u001b[0;34m\u001b[0m\u001b[0;34m\u001b[0m\u001b[0m\n\u001b[0;32m----> 2\u001b[0;31m \u001b[0msample_local_error\u001b[0m\u001b[0;34m(\u001b[0m\u001b[0;36m2\u001b[0m\u001b[0;34m)\u001b[0m\u001b[0;34m\u001b[0m\u001b[0;34m\u001b[0m\u001b[0m\n\u001b[0m",
      "\u001b[0;32m<ipython-input-74-bbea1c6ed068>\u001b[0m in \u001b[0;36msample_local_error\u001b[0;34m(val)\u001b[0m\n\u001b[1;32m      1\u001b[0m \u001b[0;32mdef\u001b[0m \u001b[0msample_local_error\u001b[0m\u001b[0;34m(\u001b[0m\u001b[0mval\u001b[0m\u001b[0;34m)\u001b[0m\u001b[0;34m:\u001b[0m\u001b[0;34m\u001b[0m\u001b[0;34m\u001b[0m\u001b[0m\n\u001b[1;32m      2\u001b[0m     \u001b[0;32mif\u001b[0m \u001b[0mval\u001b[0m \u001b[0;34m<=\u001b[0m \u001b[0;36m5\u001b[0m\u001b[0;34m:\u001b[0m\u001b[0;34m\u001b[0m\u001b[0;34m\u001b[0m\u001b[0m\n\u001b[0;32m----> 3\u001b[0;31m         \u001b[0mprint\u001b[0m\u001b[0;34m(\u001b[0m\u001b[0mmessage\u001b[0m\u001b[0;34m)\u001b[0m\u001b[0;34m\u001b[0m\u001b[0;34m\u001b[0m\u001b[0m\n\u001b[0m\u001b[1;32m      4\u001b[0m     \u001b[0;32melse\u001b[0m\u001b[0;34m:\u001b[0m\u001b[0;34m\u001b[0m\u001b[0;34m\u001b[0m\u001b[0m\n\u001b[1;32m      5\u001b[0m         \u001b[0mmessage\u001b[0m \u001b[0;34m=\u001b[0m \u001b[0;34m\"val is greater than 5\"\u001b[0m\u001b[0;34m\u001b[0m\u001b[0;34m\u001b[0m\u001b[0m\n",
      "\u001b[0;31mUnboundLocalError\u001b[0m: local variable 'message' referenced before assignment"
     ]
    }
   ],
   "source": [
    "# The function above thows unbound local error for val <= 5 while it works fine for val > 5.\n",
    "sample_local_error(2)"
   ]
  },
  {
   "cell_type": "code",
   "execution_count": 77,
   "id": "critical-following",
   "metadata": {},
   "outputs": [
    {
     "name": "stdout",
     "output_type": "stream",
     "text": [
      "val is greater than 5\n"
     ]
    }
   ],
   "source": [
    "sample_local_error(6)"
   ]
  },
  {
   "cell_type": "markdown",
   "id": "freelance-permission",
   "metadata": {},
   "source": [
    "### 25. UnicodeError\n",
    "1. It occurs when a Unicode-related encoding or decoding error occurs.\n",
    "2. As a data scientist, when loading raw data from internet or reading from a file, you will encounter this error very frequently.\n",
    "3. This exception is a subclass of ValueError.\n",
    "4. Often, functions will have a parameter of encoding or encode which can be set to 'utf-8' or other desirable encoding to resolve this error."
   ]
  },
  {
   "cell_type": "markdown",
   "id": "italian-paintball",
   "metadata": {},
   "source": [
    "### 26. ValueError\n",
    "1. It is raised when built-in operation or function receives an argument that has the right type but an invalid value.\n",
    "2. One of the most common usage would be string to int conversion."
   ]
  },
  {
   "cell_type": "code",
   "execution_count": 79,
   "id": "cellular-nomination",
   "metadata": {},
   "outputs": [
    {
     "ename": "ValueError",
     "evalue": "invalid literal for int() with base 10: 'xyz'",
     "output_type": "error",
     "traceback": [
      "\u001b[0;31m---------------------------------------------------------------------------\u001b[0m",
      "\u001b[0;31mValueError\u001b[0m                                Traceback (most recent call last)",
      "\u001b[0;32m<ipython-input-79-127645585295>\u001b[0m in \u001b[0;36m<module>\u001b[0;34m\u001b[0m\n\u001b[0;32m----> 1\u001b[0;31m \u001b[0mprint\u001b[0m\u001b[0;34m(\u001b[0m\u001b[0mint\u001b[0m\u001b[0;34m(\u001b[0m\u001b[0;34m'xyz'\u001b[0m\u001b[0;34m)\u001b[0m\u001b[0;34m)\u001b[0m\u001b[0;34m\u001b[0m\u001b[0;34m\u001b[0m\u001b[0m\n\u001b[0m",
      "\u001b[0;31mValueError\u001b[0m: invalid literal for int() with base 10: 'xyz'"
     ]
    }
   ],
   "source": [
    "print(int('xyz'))"
   ]
  },
  {
   "cell_type": "markdown",
   "id": "intimate-partnership",
   "metadata": {},
   "source": [
    "### 27. ZeroDivisionError \n",
    "1. It is raised when the second argument of a division or modulo operation is zero."
   ]
  },
  {
   "cell_type": "code",
   "execution_count": 81,
   "id": "metropolitan-production",
   "metadata": {},
   "outputs": [
    {
     "ename": "ZeroDivisionError",
     "evalue": "division by zero",
     "output_type": "error",
     "traceback": [
      "\u001b[0;31m---------------------------------------------------------------------------\u001b[0m",
      "\u001b[0;31mZeroDivisionError\u001b[0m                         Traceback (most recent call last)",
      "\u001b[0;32m<ipython-input-81-8b4ac6d3a3e1>\u001b[0m in \u001b[0;36m<module>\u001b[0;34m\u001b[0m\n\u001b[0;32m----> 1\u001b[0;31m \u001b[0;36m2\u001b[0m \u001b[0;34m/\u001b[0m \u001b[0;36m0\u001b[0m\u001b[0;34m\u001b[0m\u001b[0;34m\u001b[0m\u001b[0m\n\u001b[0m",
      "\u001b[0;31mZeroDivisionError\u001b[0m: division by zero"
     ]
    }
   ],
   "source": [
    "2 / 0"
   ]
  },
  {
   "cell_type": "code",
   "execution_count": null,
   "id": "grand-whole",
   "metadata": {},
   "outputs": [],
   "source": []
  }
 ],
 "metadata": {
  "kernelspec": {
   "display_name": "Python 3",
   "language": "python",
   "name": "python3"
  },
  "language_info": {
   "codemirror_mode": {
    "name": "ipython",
    "version": 3
   },
   "file_extension": ".py",
   "mimetype": "text/x-python",
   "name": "python",
   "nbconvert_exporter": "python",
   "pygments_lexer": "ipython3",
   "version": "3.9.1"
  }
 },
 "nbformat": 4,
 "nbformat_minor": 5
}
